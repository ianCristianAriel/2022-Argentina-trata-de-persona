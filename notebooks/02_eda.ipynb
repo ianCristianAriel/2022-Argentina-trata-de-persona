{
  "cells": [
    {
      "cell_type": "markdown",
      "metadata": {
        "id": "-LplsHfRNCLg"
      },
      "source": [
        "### Librerias"
      ]
    },
    {
      "cell_type": "code",
      "execution_count": 1,
      "metadata": {
        "id": "BMMOXa7PNCL9"
      },
      "outputs": [],
      "source": [
        "import pandas as pd\n",
        "import numpy as np\n",
        "import seaborn as sns\n",
        "import matplotlib.pyplot as plt\n",
        "import re\n",
        "from sklearn.preprocessing import MinMaxScaler\n",
        "from sklearn.preprocessing import LabelEncoder\n",
        "from sklearn.preprocessing import OrdinalEncoder"
      ]
    },
    {
      "cell_type": "code",
      "execution_count": 2,
      "metadata": {
        "id": "4YQt1CbNNCMM"
      },
      "outputs": [],
      "source": [
        "# Configurar la visualización de gráficos inline\n",
        "%matplotlib inline"
      ]
    },
    {
      "cell_type": "markdown",
      "metadata": {
        "id": "OTYcQXfTNCMR"
      },
      "source": [
        "## csv 1\n"
      ]
    },
    {
      "cell_type": "markdown",
      "metadata": {
        "id": "Xodg9CAONCMS"
      },
      "source": [
        "### importacion de CSV"
      ]
    },
    {
      "cell_type": "code",
      "execution_count": null,
      "metadata": {},
      "outputs": [],
      "source": []
    },
    {
      "cell_type": "markdown",
      "metadata": {
        "id": "e6iCRwVnNCMi"
      },
      "source": [
        "### Cantidad de variables por tipo de datos"
      ]
    },
    {
      "cell_type": "code",
      "execution_count": null,
      "metadata": {},
      "outputs": [],
      "source": []
    },
    {
      "cell_type": "markdown",
      "metadata": {
        "id": "5g8EQjRiNCM0"
      },
      "source": [
        "### Conversion de tipos de datos de las columnas"
      ]
    },
    {
      "cell_type": "code",
      "execution_count": 17,
      "metadata": {
        "id": "R9NCyKsRNCM1"
      },
      "outputs": [],
      "source": []
    },
    {
      "cell_type": "markdown",
      "metadata": {
        "id": "THyPA5HgNCM1"
      },
      "source": [
        "### Codificacion"
      ]
    },
    {
      "cell_type": "code",
      "execution_count": 18,
      "metadata": {
        "id": "TJGwNMUHNCM2"
      },
      "outputs": [],
      "source": []
    },
    {
      "cell_type": "markdown",
      "metadata": {
        "id": "C6jwJMAbNCNG"
      },
      "source": [
        "### Escalamiento"
      ]
    },
    {
      "cell_type": "code",
      "execution_count": 9,
      "metadata": {
        "id": "6JSdeuJDNCNJ"
      },
      "outputs": [],
      "source": []
    },
    {
      "cell_type": "markdown",
      "metadata": {
        "id": "2bMT7tRQNCNK"
      },
      "source": [
        "### Proporcion entre variables categoricas"
      ]
    },
    {
      "cell_type": "code",
      "execution_count": null,
      "metadata": {},
      "outputs": [],
      "source": []
    },
    {
      "cell_type": "markdown",
      "metadata": {
        "id": "6aotS7e1NCNT"
      },
      "source": [
        "### Estadisticas generales"
      ]
    },
    {
      "cell_type": "code",
      "execution_count": null,
      "metadata": {},
      "outputs": [],
      "source": []
    },
    {
      "cell_type": "markdown",
      "metadata": {
        "id": "b6vH15xcNCNZ"
      },
      "source": [
        "### Correlacion"
      ]
    },
    {
      "cell_type": "code",
      "execution_count": null,
      "metadata": {},
      "outputs": [],
      "source": []
    },
    {
      "cell_type": "markdown",
      "metadata": {
        "id": "GBNTg_lecbIp"
      },
      "source": [
        "### Guardado de CSV"
      ]
    },
    {
      "cell_type": "code",
      "execution_count": null,
      "metadata": {
        "id": "TUQu1q6bcd-v"
      },
      "outputs": [],
      "source": []
    },
    {
      "cell_type": "markdown",
      "metadata": {
        "id": "LhBOZMI-NCNg"
      },
      "source": [
        "## csv 2"
      ]
    },
    {
      "cell_type": "markdown",
      "metadata": {
        "id": "iiICIp3qNCNm"
      },
      "source": [
        "### Importacion de CSV"
      ]
    },
    {
      "cell_type": "code",
      "execution_count": null,
      "metadata": {
        "colab": {
          "base_uri": "https://localhost:8080/",
          "height": 74
        },
        "id": "iW5I7vPnTfNy",
        "outputId": "ec84ad24-00a5-4024-d77d-f3eaf184bd51"
      },
      "outputs": [],
      "source": []
    },
    {
      "cell_type": "markdown",
      "metadata": {
        "id": "iCZXTmFpNCNp"
      },
      "source": [
        "### Cantidad de variables por tipo de datos"
      ]
    },
    {
      "cell_type": "code",
      "execution_count": null,
      "metadata": {
        "colab": {
          "base_uri": "https://localhost:8080/"
        },
        "id": "HqNc9GkUNCNq",
        "outputId": "5881c33a-2f70-4953-eaca-c684c08bceb1"
      },
      "outputs": [],
      "source": []
    },
    {
      "cell_type": "markdown",
      "metadata": {
        "id": "VNajpXmmNCNs"
      },
      "source": [
        "### Proporcion entre variables categoricas"
      ]
    },
    {
      "cell_type": "code",
      "execution_count": 20,
      "metadata": {
        "id": "aX3I5WeTNCNw"
      },
      "outputs": [],
      "source": []
    },
    {
      "cell_type": "markdown",
      "metadata": {
        "id": "A14EiQ8SNCN0"
      },
      "source": [
        "### Codificacion"
      ]
    },
    {
      "cell_type": "code",
      "execution_count": 22,
      "metadata": {
        "id": "_hHDs6Y5NCOB"
      },
      "outputs": [],
      "source": []
    },
    {
      "cell_type": "markdown",
      "metadata": {
        "id": "QKPvsgEiNCOC"
      },
      "source": [
        "### Escalamiento"
      ]
    },
    {
      "cell_type": "code",
      "execution_count": null,
      "metadata": {
        "colab": {
          "base_uri": "https://localhost:8080/"
        },
        "id": "Jqzm_tKWNCOE",
        "outputId": "8eb58f4f-38fb-4a83-bde0-b3b98c393ac3"
      },
      "outputs": [],
      "source": []
    },
    {
      "cell_type": "markdown",
      "metadata": {
        "id": "POKAMfJcNCOI"
      },
      "source": [
        "### Estadisticas basicas"
      ]
    },
    {
      "cell_type": "code",
      "execution_count": null,
      "metadata": {
        "colab": {
          "base_uri": "https://localhost:8080/",
          "height": 458
        },
        "id": "uD22EBpCNCOJ",
        "outputId": "ec8d7b80-2f37-4848-890d-e348de9194ec"
      },
      "outputs": [],
      "source": []
    },
    {
      "cell_type": "markdown",
      "metadata": {
        "id": "dTKFfaW8NCOK"
      },
      "source": [
        "### Correlacion"
      ]
    },
    {
      "cell_type": "code",
      "execution_count": null,
      "metadata": {
        "colab": {
          "base_uri": "https://localhost:8080/",
          "height": 871
        },
        "id": "t56m7MK6Z18W",
        "outputId": "8fe44451-1bcf-4657-8f90-da36aa4df111"
      },
      "outputs": [],
      "source": []
    },
    {
      "cell_type": "markdown",
      "metadata": {
        "id": "vl8UGl1sNCOQ"
      },
      "source": [
        "### Guardado de CSV"
      ]
    },
    {
      "cell_type": "code",
      "execution_count": 32,
      "metadata": {
        "id": "5ENo_lo-NCOR"
      },
      "outputs": [],
      "source": []
    }
  ],
  "metadata": {
    "colab": {
      "provenance": []
    },
    "kernelspec": {
      "display_name": "Python 3",
      "language": "python",
      "name": "python3"
    },
    "language_info": {
      "codemirror_mode": {
        "name": "ipython",
        "version": 3
      },
      "file_extension": ".py",
      "mimetype": "text/x-python",
      "name": "python",
      "nbconvert_exporter": "python",
      "pygments_lexer": "ipython3",
      "version": "3.11.4"
    },
    "orig_nbformat": 4
  },
  "nbformat": 4,
  "nbformat_minor": 0
}
