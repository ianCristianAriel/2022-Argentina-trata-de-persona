{
  "cells": [
    {
      "cell_type": "markdown",
      "metadata": {},
      "source": [
        "# CODIGO GENERAL"
      ]
    },
    {
      "cell_type": "markdown",
      "metadata": {
        "id": "-LplsHfRNCLg"
      },
      "source": [
        "## 1.1 - LIBRERIAS"
      ]
    },
    {
      "cell_type": "code",
      "execution_count": 1,
      "metadata": {
        "id": "BMMOXa7PNCL9"
      },
      "outputs": [],
      "source": [
        "import pandas as pd\n",
        "import numpy as np\n",
        "import seaborn as sns\n",
        "import matplotlib.pyplot as plt\n",
        "import re\n",
        "from sklearn.preprocessing import MinMaxScaler\n",
        "from sklearn.preprocessing import LabelEncoder\n",
        "from sklearn.preprocessing import OrdinalEncoder"
      ]
    },
    {
      "cell_type": "code",
      "execution_count": 41,
      "metadata": {
        "id": "4YQt1CbNNCMM"
      },
      "outputs": [],
      "source": [
        "# Configurar la visualización de gráficos inline\n",
        "%matplotlib inline"
      ]
    },
    {
      "cell_type": "markdown",
      "metadata": {
        "id": "OTYcQXfTNCMR"
      },
      "source": [
        "# 2.O - CSV DENUNCIAS\n"
      ]
    },
    {
      "cell_type": "markdown",
      "metadata": {
        "id": "Xodg9CAONCMS"
      },
      "source": [
        "### 2.1 - IMPORTACION DE CSV"
      ]
    },
    {
      "cell_type": "code",
      "execution_count": 58,
      "metadata": {},
      "outputs": [],
      "source": [
        "denuncias_path = ('../datos/csv procesados/limpios_denuncias.csv')\n",
        "df_denuncias = pd.read_csv(denuncias_path, index_col=0)"
      ]
    },
    {
      "cell_type": "code",
      "execution_count": 43,
      "metadata": {},
      "outputs": [
        {
          "data": {
            "text/html": [
              "<div>\n",
              "<style scoped>\n",
              "    .dataframe tbody tr th:only-of-type {\n",
              "        vertical-align: middle;\n",
              "    }\n",
              "\n",
              "    .dataframe tbody tr th {\n",
              "        vertical-align: top;\n",
              "    }\n",
              "\n",
              "    .dataframe thead th {\n",
              "        text-align: right;\n",
              "    }\n",
              "</style>\n",
              "<table border=\"1\" class=\"dataframe\">\n",
              "  <thead>\n",
              "    <tr style=\"text-align: right;\">\n",
              "      <th></th>\n",
              "      <th>hora_ingreso</th>\n",
              "      <th>nro_registro_interno</th>\n",
              "      <th>situacion</th>\n",
              "      <th>origen</th>\n",
              "      <th>es_anonima</th>\n",
              "      <th>tema</th>\n",
              "      <th>subtema</th>\n",
              "      <th>provincia</th>\n",
              "      <th>localidad</th>\n",
              "      <th>dependencia_alta</th>\n",
              "      <th>via_ingreso</th>\n",
              "      <th>derivacion_institucion</th>\n",
              "      <th>derivacion_fecha</th>\n",
              "      <th>derivacion_judicializa</th>\n",
              "      <th>denunciante_provincia</th>\n",
              "      <th>denunciante_como_conocio_la_linea</th>\n",
              "    </tr>\n",
              "    <tr>\n",
              "      <th>fecha_ingreso</th>\n",
              "      <th></th>\n",
              "      <th></th>\n",
              "      <th></th>\n",
              "      <th></th>\n",
              "      <th></th>\n",
              "      <th></th>\n",
              "      <th></th>\n",
              "      <th></th>\n",
              "      <th></th>\n",
              "      <th></th>\n",
              "      <th></th>\n",
              "      <th></th>\n",
              "      <th></th>\n",
              "      <th></th>\n",
              "      <th></th>\n",
              "      <th></th>\n",
              "    </tr>\n",
              "  </thead>\n",
              "  <tbody>\n",
              "    <tr>\n",
              "      <th>2020-04-17</th>\n",
              "      <td>NaN</td>\n",
              "      <td>505455505</td>\n",
              "      <td>Urgencia</td>\n",
              "      <td>Ciudadano</td>\n",
              "      <td>No</td>\n",
              "      <td>Trata</td>\n",
              "      <td>Grooming</td>\n",
              "      <td>Buenos Aires</td>\n",
              "      <td>Florencio Varela</td>\n",
              "      <td>PNR - Línea 145</td>\n",
              "      <td>Línea 145</td>\n",
              "      <td>Protex</td>\n",
              "      <td>2020-04-17 18:45</td>\n",
              "      <td>No</td>\n",
              "      <td>NaN</td>\n",
              "      <td>NaN</td>\n",
              "    </tr>\n",
              "    <tr>\n",
              "      <th>2023-05-31</th>\n",
              "      <td>14:28</td>\n",
              "      <td>2545751535</td>\n",
              "      <td>Emergencia</td>\n",
              "      <td>Ciudadano</td>\n",
              "      <td>Sí</td>\n",
              "      <td>Trata</td>\n",
              "      <td>Explotación sexual niñas, niños y adolescentes</td>\n",
              "      <td>Santa Fe</td>\n",
              "      <td>Rosario</td>\n",
              "      <td>PNR - Línea 145</td>\n",
              "      <td>Línea 145</td>\n",
              "      <td>911</td>\n",
              "      <td>2023-05-31 15:26</td>\n",
              "      <td>Sí</td>\n",
              "      <td>Santa Fe</td>\n",
              "      <td>NaN</td>\n",
              "    </tr>\n",
              "    <tr>\n",
              "      <th>2021-04-16</th>\n",
              "      <td>NaN</td>\n",
              "      <td>9494751515</td>\n",
              "      <td>Urgencia</td>\n",
              "      <td>Ciudadano</td>\n",
              "      <td>Sí</td>\n",
              "      <td>Trata</td>\n",
              "      <td>Explotación sexual</td>\n",
              "      <td>Buenos Aires</td>\n",
              "      <td>Ituzaingó</td>\n",
              "      <td>PNR - Línea 145</td>\n",
              "      <td>Línea 145</td>\n",
              "      <td>Protex</td>\n",
              "      <td>2021-04-16 12:29</td>\n",
              "      <td>Sí</td>\n",
              "      <td>NaN</td>\n",
              "      <td>NaN</td>\n",
              "    </tr>\n",
              "  </tbody>\n",
              "</table>\n",
              "</div>"
            ],
            "text/plain": [
              "              hora_ingreso  nro_registro_interno   situacion     origen  \\\n",
              "fecha_ingreso                                                             \n",
              "2020-04-17             NaN             505455505    Urgencia  Ciudadano   \n",
              "2023-05-31           14:28            2545751535  Emergencia  Ciudadano   \n",
              "2021-04-16             NaN            9494751515    Urgencia  Ciudadano   \n",
              "\n",
              "              es_anonima   tema  \\\n",
              "fecha_ingreso                     \n",
              "2020-04-17            No  Trata   \n",
              "2023-05-31            Sí  Trata   \n",
              "2021-04-16            Sí  Trata   \n",
              "\n",
              "                                                      subtema     provincia  \\\n",
              "fecha_ingreso                                                                 \n",
              "2020-04-17                                           Grooming  Buenos Aires   \n",
              "2023-05-31     Explotación sexual niñas, niños y adolescentes      Santa Fe   \n",
              "2021-04-16                                 Explotación sexual  Buenos Aires   \n",
              "\n",
              "                      localidad dependencia_alta via_ingreso  \\\n",
              "fecha_ingreso                                                  \n",
              "2020-04-17     Florencio Varela  PNR - Línea 145   Línea 145   \n",
              "2023-05-31              Rosario  PNR - Línea 145   Línea 145   \n",
              "2021-04-16            Ituzaingó  PNR - Línea 145   Línea 145   \n",
              "\n",
              "              derivacion_institucion  derivacion_fecha derivacion_judicializa  \\\n",
              "fecha_ingreso                                                                   \n",
              "2020-04-17                    Protex  2020-04-17 18:45                     No   \n",
              "2023-05-31                       911  2023-05-31 15:26                     Sí   \n",
              "2021-04-16                    Protex  2021-04-16 12:29                     Sí   \n",
              "\n",
              "              denunciante_provincia denunciante_como_conocio_la_linea  \n",
              "fecha_ingreso                                                          \n",
              "2020-04-17                      NaN                               NaN  \n",
              "2023-05-31                 Santa Fe                               NaN  \n",
              "2021-04-16                      NaN                               NaN  "
            ]
          },
          "execution_count": 43,
          "metadata": {},
          "output_type": "execute_result"
        }
      ],
      "source": [
        "df_denuncias.sample(3, random_state=4)"
      ]
    },
    {
      "cell_type": "markdown",
      "metadata": {
        "id": "e6iCRwVnNCMi"
      },
      "source": [
        "### 2.2 - COLUMNAS"
      ]
    },
    {
      "cell_type": "markdown",
      "metadata": {},
      "source": [
        "#### 2.2.1 - TIPOS DE DATOS"
      ]
    },
    {
      "cell_type": "code",
      "execution_count": 54,
      "metadata": {},
      "outputs": [
        {
          "name": "stdout",
          "output_type": "stream",
          "text": [
            "<class 'pandas.core.frame.DataFrame'>\n",
            "Index: 5912 entries, 2020-01-01 to 2023-07-31\n",
            "Data columns (total 16 columns):\n",
            " #   Column                             Non-Null Count  Dtype \n",
            "---  ------                             --------------  ----- \n",
            " 0   hora_ingreso                       2744 non-null   object\n",
            " 1   nro_registro_interno               5912 non-null   int64 \n",
            " 2   situacion                          5892 non-null   object\n",
            " 3   origen                             5912 non-null   object\n",
            " 4   es_anonima                         5912 non-null   object\n",
            " 5   tema                               5912 non-null   object\n",
            " 6   subtema                            5912 non-null   object\n",
            " 7   provincia                          5441 non-null   object\n",
            " 8   localidad                          5039 non-null   object\n",
            " 9   dependencia_alta                   5912 non-null   object\n",
            " 10  via_ingreso                        5911 non-null   object\n",
            " 11  derivacion_institucion             5503 non-null   object\n",
            " 12  derivacion_fecha                   5503 non-null   object\n",
            " 13  derivacion_judicializa             5503 non-null   object\n",
            " 14  denunciante_provincia              3025 non-null   object\n",
            " 15  denunciante_como_conocio_la_linea  1036 non-null   object\n",
            "dtypes: int64(1), object(15)\n",
            "memory usage: 785.2+ KB\n"
          ]
        }
      ],
      "source": [
        "df_denuncias.info()"
      ]
    },
    {
      "cell_type": "code",
      "execution_count": 59,
      "metadata": {},
      "outputs": [
        {
          "ename": "NameError",
          "evalue": "name 'datetime' is not defined",
          "output_type": "error",
          "traceback": [
            "\u001b[0;31m---------------------------------------------------------------------------\u001b[0m",
            "\u001b[0;31mNameError\u001b[0m                                 Traceback (most recent call last)",
            "Cell \u001b[0;32mIn[59], line 1\u001b[0m\n\u001b[0;32m----> 1\u001b[0m df_denuncias[\u001b[39m'\u001b[39m\u001b[39mhora_ingreso\u001b[39m\u001b[39m'\u001b[39m] \u001b[39m=\u001b[39m [datetime\u001b[39m.\u001b[39;49mstrptime(hora, \u001b[39m'\u001b[39;49m\u001b[39m%\u001b[39;49m\u001b[39mH:\u001b[39;49m\u001b[39m%\u001b[39;49m\u001b[39mM\u001b[39;49m\u001b[39m'\u001b[39;49m)\u001b[39m.\u001b[39;49mtime() \u001b[39mfor\u001b[39;49;00m hora \u001b[39min\u001b[39;49;00m df_denuncias[\u001b[39m'\u001b[39;49m\u001b[39mhora_ingreso\u001b[39;49m\u001b[39m'\u001b[39;49m]]\n",
            "Cell \u001b[0;32mIn[59], line 1\u001b[0m, in \u001b[0;36m<listcomp>\u001b[0;34m(.0)\u001b[0m\n\u001b[0;32m----> 1\u001b[0m df_denuncias[\u001b[39m'\u001b[39m\u001b[39mhora_ingreso\u001b[39m\u001b[39m'\u001b[39m] \u001b[39m=\u001b[39m [datetime\u001b[39m.\u001b[39mstrptime(hora, \u001b[39m'\u001b[39m\u001b[39m%\u001b[39m\u001b[39mH:\u001b[39m\u001b[39m%\u001b[39m\u001b[39mM\u001b[39m\u001b[39m'\u001b[39m)\u001b[39m.\u001b[39mtime() \u001b[39mfor\u001b[39;00m hora \u001b[39min\u001b[39;00m df_denuncias[\u001b[39m'\u001b[39m\u001b[39mhora_ingreso\u001b[39m\u001b[39m'\u001b[39m]]\n",
            "\u001b[0;31mNameError\u001b[0m: name 'datetime' is not defined"
          ]
        }
      ],
      "source": []
    },
    {
      "cell_type": "code",
      "execution_count": 51,
      "metadata": {},
      "outputs": [
        {
          "data": {
            "text/html": [
              "<div>\n",
              "<style scoped>\n",
              "    .dataframe tbody tr th:only-of-type {\n",
              "        vertical-align: middle;\n",
              "    }\n",
              "\n",
              "    .dataframe tbody tr th {\n",
              "        vertical-align: top;\n",
              "    }\n",
              "\n",
              "    .dataframe thead th {\n",
              "        text-align: right;\n",
              "    }\n",
              "</style>\n",
              "<table border=\"1\" class=\"dataframe\">\n",
              "  <thead>\n",
              "    <tr style=\"text-align: right;\">\n",
              "      <th></th>\n",
              "      <th>hora_ingreso</th>\n",
              "      <th>nro_registro_interno</th>\n",
              "      <th>situacion</th>\n",
              "      <th>origen</th>\n",
              "      <th>es_anonima</th>\n",
              "      <th>tema</th>\n",
              "      <th>subtema</th>\n",
              "      <th>provincia</th>\n",
              "      <th>localidad</th>\n",
              "      <th>dependencia_alta</th>\n",
              "      <th>via_ingreso</th>\n",
              "      <th>derivacion_institucion</th>\n",
              "      <th>derivacion_fecha</th>\n",
              "      <th>derivacion_judicializa</th>\n",
              "      <th>denunciante_provincia</th>\n",
              "      <th>denunciante_como_conocio_la_linea</th>\n",
              "    </tr>\n",
              "    <tr>\n",
              "      <th>fecha_ingreso</th>\n",
              "      <th></th>\n",
              "      <th></th>\n",
              "      <th></th>\n",
              "      <th></th>\n",
              "      <th></th>\n",
              "      <th></th>\n",
              "      <th></th>\n",
              "      <th></th>\n",
              "      <th></th>\n",
              "      <th></th>\n",
              "      <th></th>\n",
              "      <th></th>\n",
              "      <th></th>\n",
              "      <th></th>\n",
              "      <th></th>\n",
              "      <th></th>\n",
              "    </tr>\n",
              "  </thead>\n",
              "  <tbody>\n",
              "    <tr>\n",
              "      <th>2020-01-01</th>\n",
              "      <td>NaT</td>\n",
              "      <td>584554505</td>\n",
              "      <td>Urgencia</td>\n",
              "      <td>Ciudadano</td>\n",
              "      <td>No</td>\n",
              "      <td>Trata</td>\n",
              "      <td>Explotación sexual</td>\n",
              "      <td>Buenos Aires</td>\n",
              "      <td>Maquinista Savio</td>\n",
              "      <td>PNR - Línea 145</td>\n",
              "      <td>Línea 145</td>\n",
              "      <td>Protex</td>\n",
              "      <td>2020-01-01 20:27</td>\n",
              "      <td>Sí</td>\n",
              "      <td>NaN</td>\n",
              "      <td>NaN</td>\n",
              "    </tr>\n",
              "    <tr>\n",
              "      <th>2020-01-01</th>\n",
              "      <td>NaT</td>\n",
              "      <td>2584554505</td>\n",
              "      <td>Emergencia</td>\n",
              "      <td>Institución</td>\n",
              "      <td>No</td>\n",
              "      <td>Trata</td>\n",
              "      <td>Explotación sexual niñas, niños y adolescentes</td>\n",
              "      <td>Ciudad Autónoma de Buenos Aires</td>\n",
              "      <td>Ciudad Autónoma de Buenos Aires</td>\n",
              "      <td>PNR - Línea 145</td>\n",
              "      <td>Línea 145</td>\n",
              "      <td>Gendarmería Nacional Argentina</td>\n",
              "      <td>2020-01-01 20:52</td>\n",
              "      <td>Sí</td>\n",
              "      <td>Ciudad Autónoma de Buenos Aires</td>\n",
              "      <td>NaN</td>\n",
              "    </tr>\n",
              "    <tr>\n",
              "      <th>2020-01-02</th>\n",
              "      <td>NaT</td>\n",
              "      <td>3584554505</td>\n",
              "      <td>Urgencia</td>\n",
              "      <td>Ciudadano</td>\n",
              "      <td>No</td>\n",
              "      <td>Trata</td>\n",
              "      <td>Extracción forzosa de órganos, tejidos o fluidos</td>\n",
              "      <td>Buenos Aires</td>\n",
              "      <td>San Francisco Solano</td>\n",
              "      <td>PNR - Línea 145</td>\n",
              "      <td>Línea 145</td>\n",
              "      <td>Protex</td>\n",
              "      <td>2020-01-02 01:38</td>\n",
              "      <td>Sí</td>\n",
              "      <td>Buenos Aires</td>\n",
              "      <td>NaN</td>\n",
              "    </tr>\n",
              "    <tr>\n",
              "      <th>2020-01-02</th>\n",
              "      <td>NaT</td>\n",
              "      <td>594554505</td>\n",
              "      <td>Urgencia</td>\n",
              "      <td>Ciudadano</td>\n",
              "      <td>Sí</td>\n",
              "      <td>Trata</td>\n",
              "      <td>Explotación sexual</td>\n",
              "      <td>Córdoba</td>\n",
              "      <td>Laboulaye</td>\n",
              "      <td>PNR - Línea 145</td>\n",
              "      <td>Línea 145</td>\n",
              "      <td>Protex</td>\n",
              "      <td>2020-06-24 15:13</td>\n",
              "      <td>Sí</td>\n",
              "      <td>NaN</td>\n",
              "      <td>Por publicidad en internet</td>\n",
              "    </tr>\n",
              "    <tr>\n",
              "      <th>2020-01-02</th>\n",
              "      <td>NaT</td>\n",
              "      <td>1594554505</td>\n",
              "      <td>Urgencia</td>\n",
              "      <td>Ciudadano</td>\n",
              "      <td>No</td>\n",
              "      <td>Trata</td>\n",
              "      <td>Posible captación</td>\n",
              "      <td>NaN</td>\n",
              "      <td>NaN</td>\n",
              "      <td>PNR - Línea 145</td>\n",
              "      <td>Correo Institucional</td>\n",
              "      <td>Protex</td>\n",
              "      <td>2020-06-24 15:14</td>\n",
              "      <td>Sí</td>\n",
              "      <td>NaN</td>\n",
              "      <td>NaN</td>\n",
              "    </tr>\n",
              "    <tr>\n",
              "      <th>...</th>\n",
              "      <td>...</td>\n",
              "      <td>...</td>\n",
              "      <td>...</td>\n",
              "      <td>...</td>\n",
              "      <td>...</td>\n",
              "      <td>...</td>\n",
              "      <td>...</td>\n",
              "      <td>...</td>\n",
              "      <td>...</td>\n",
              "      <td>...</td>\n",
              "      <td>...</td>\n",
              "      <td>...</td>\n",
              "      <td>...</td>\n",
              "      <td>...</td>\n",
              "      <td>...</td>\n",
              "      <td>...</td>\n",
              "    </tr>\n",
              "    <tr>\n",
              "      <th>2023-07-31</th>\n",
              "      <td>2023-08-26 13:22:00</td>\n",
              "      <td>7565153535</td>\n",
              "      <td>Emergencia</td>\n",
              "      <td>Ciudadano</td>\n",
              "      <td>No</td>\n",
              "      <td>Trata</td>\n",
              "      <td>Explotación sexual niñas, niños y adolescentes</td>\n",
              "      <td>Entre Ríos</td>\n",
              "      <td>Concordia</td>\n",
              "      <td>PNR - Línea 145</td>\n",
              "      <td>Línea 145</td>\n",
              "      <td>Protex</td>\n",
              "      <td>2023-07-31 14:38</td>\n",
              "      <td>Sí</td>\n",
              "      <td>Entre Ríos</td>\n",
              "      <td>NaN</td>\n",
              "    </tr>\n",
              "    <tr>\n",
              "      <th>2023-07-31</th>\n",
              "      <td>2023-08-26 14:26:00</td>\n",
              "      <td>575153535</td>\n",
              "      <td>Urgencia</td>\n",
              "      <td>Ciudadano</td>\n",
              "      <td>Sí</td>\n",
              "      <td>Trata</td>\n",
              "      <td>Explotación sexual niñas, niños y adolescentes</td>\n",
              "      <td>Córdoba</td>\n",
              "      <td>Bell Ville</td>\n",
              "      <td>PNR - Línea 145</td>\n",
              "      <td>Línea 145</td>\n",
              "      <td>Protex</td>\n",
              "      <td>2023-07-31 15:12</td>\n",
              "      <td>Sí</td>\n",
              "      <td>Córdoba</td>\n",
              "      <td>NaN</td>\n",
              "    </tr>\n",
              "    <tr>\n",
              "      <th>2023-07-31</th>\n",
              "      <td>2023-08-26 16:41:00</td>\n",
              "      <td>1575153535</td>\n",
              "      <td>Urgencia</td>\n",
              "      <td>Ciudadano</td>\n",
              "      <td>No</td>\n",
              "      <td>Trata</td>\n",
              "      <td>Reducción a la servidumbre o situaciones análogas</td>\n",
              "      <td>Ciudad Autónoma de Buenos Aires</td>\n",
              "      <td>Buenos Aires</td>\n",
              "      <td>PNR - Línea 145</td>\n",
              "      <td>Línea 145</td>\n",
              "      <td>Protex</td>\n",
              "      <td>2023-07-31 17:24</td>\n",
              "      <td>Sí</td>\n",
              "      <td>Ciudad Autónoma de Buenos Aires</td>\n",
              "      <td>NaN</td>\n",
              "    </tr>\n",
              "    <tr>\n",
              "      <th>2023-07-31</th>\n",
              "      <td>2023-08-26 20:10:00</td>\n",
              "      <td>8484253535</td>\n",
              "      <td>Urgencia</td>\n",
              "      <td>Institución - Renatre.Concepcion del Uruguay</td>\n",
              "      <td>No</td>\n",
              "      <td>Trata</td>\n",
              "      <td>Explotación laboral</td>\n",
              "      <td>Entre Ríos</td>\n",
              "      <td>San José de Feliciano</td>\n",
              "      <td>PNR - Línea 145</td>\n",
              "      <td>Línea 145</td>\n",
              "      <td>Protex</td>\n",
              "      <td>2023-07-31 20:10</td>\n",
              "      <td>Sí</td>\n",
              "      <td>Entre Ríos</td>\n",
              "      <td>Concurrió en otra oportunidad</td>\n",
              "    </tr>\n",
              "    <tr>\n",
              "      <th>2023-07-31</th>\n",
              "      <td>2023-08-26 20:29:00</td>\n",
              "      <td>9484253535</td>\n",
              "      <td>Urgencia</td>\n",
              "      <td>Institución - RENATRE. Agencia Concepción del ...</td>\n",
              "      <td>No</td>\n",
              "      <td>Trata</td>\n",
              "      <td>Explotación laboral</td>\n",
              "      <td>Entre Ríos</td>\n",
              "      <td>San José de Feliciano</td>\n",
              "      <td>PNR - Línea 145</td>\n",
              "      <td>Línea 145</td>\n",
              "      <td>Protex</td>\n",
              "      <td>2023-07-31 20:29</td>\n",
              "      <td>Sí</td>\n",
              "      <td>Entre Ríos</td>\n",
              "      <td>Concurrió en otra oportunidad</td>\n",
              "    </tr>\n",
              "  </tbody>\n",
              "</table>\n",
              "<p>5912 rows × 16 columns</p>\n",
              "</div>"
            ],
            "text/plain": [
              "                     hora_ingreso  nro_registro_interno   situacion  \\\n",
              "fecha_ingreso                                                         \n",
              "2020-01-01                    NaT             584554505    Urgencia   \n",
              "2020-01-01                    NaT            2584554505  Emergencia   \n",
              "2020-01-02                    NaT            3584554505    Urgencia   \n",
              "2020-01-02                    NaT             594554505    Urgencia   \n",
              "2020-01-02                    NaT            1594554505    Urgencia   \n",
              "...                           ...                   ...         ...   \n",
              "2023-07-31    2023-08-26 13:22:00            7565153535  Emergencia   \n",
              "2023-07-31    2023-08-26 14:26:00             575153535    Urgencia   \n",
              "2023-07-31    2023-08-26 16:41:00            1575153535    Urgencia   \n",
              "2023-07-31    2023-08-26 20:10:00            8484253535    Urgencia   \n",
              "2023-07-31    2023-08-26 20:29:00            9484253535    Urgencia   \n",
              "\n",
              "                                                          origen es_anonima  \\\n",
              "fecha_ingreso                                                                 \n",
              "2020-01-01                                             Ciudadano         No   \n",
              "2020-01-01                                           Institución         No   \n",
              "2020-01-02                                             Ciudadano         No   \n",
              "2020-01-02                                             Ciudadano         Sí   \n",
              "2020-01-02                                             Ciudadano         No   \n",
              "...                                                          ...        ...   \n",
              "2023-07-31                                             Ciudadano         No   \n",
              "2023-07-31                                             Ciudadano         Sí   \n",
              "2023-07-31                                             Ciudadano         No   \n",
              "2023-07-31          Institución - Renatre.Concepcion del Uruguay         No   \n",
              "2023-07-31     Institución - RENATRE. Agencia Concepción del ...         No   \n",
              "\n",
              "                tema                                            subtema  \\\n",
              "fecha_ingreso                                                             \n",
              "2020-01-01     Trata                                 Explotación sexual   \n",
              "2020-01-01     Trata     Explotación sexual niñas, niños y adolescentes   \n",
              "2020-01-02     Trata   Extracción forzosa de órganos, tejidos o fluidos   \n",
              "2020-01-02     Trata                                 Explotación sexual   \n",
              "2020-01-02     Trata                                  Posible captación   \n",
              "...              ...                                                ...   \n",
              "2023-07-31     Trata     Explotación sexual niñas, niños y adolescentes   \n",
              "2023-07-31     Trata     Explotación sexual niñas, niños y adolescentes   \n",
              "2023-07-31     Trata  Reducción a la servidumbre o situaciones análogas   \n",
              "2023-07-31     Trata                                Explotación laboral   \n",
              "2023-07-31     Trata                                Explotación laboral   \n",
              "\n",
              "                                     provincia  \\\n",
              "fecha_ingreso                                    \n",
              "2020-01-01                        Buenos Aires   \n",
              "2020-01-01     Ciudad Autónoma de Buenos Aires   \n",
              "2020-01-02                        Buenos Aires   \n",
              "2020-01-02                             Córdoba   \n",
              "2020-01-02                                 NaN   \n",
              "...                                        ...   \n",
              "2023-07-31                          Entre Ríos   \n",
              "2023-07-31                             Córdoba   \n",
              "2023-07-31     Ciudad Autónoma de Buenos Aires   \n",
              "2023-07-31                          Entre Ríos   \n",
              "2023-07-31                          Entre Ríos   \n",
              "\n",
              "                                     localidad dependencia_alta  \\\n",
              "fecha_ingreso                                                     \n",
              "2020-01-01                    Maquinista Savio  PNR - Línea 145   \n",
              "2020-01-01     Ciudad Autónoma de Buenos Aires  PNR - Línea 145   \n",
              "2020-01-02                San Francisco Solano  PNR - Línea 145   \n",
              "2020-01-02                           Laboulaye  PNR - Línea 145   \n",
              "2020-01-02                                 NaN  PNR - Línea 145   \n",
              "...                                        ...              ...   \n",
              "2023-07-31                           Concordia  PNR - Línea 145   \n",
              "2023-07-31                          Bell Ville  PNR - Línea 145   \n",
              "2023-07-31                        Buenos Aires  PNR - Línea 145   \n",
              "2023-07-31               San José de Feliciano  PNR - Línea 145   \n",
              "2023-07-31               San José de Feliciano  PNR - Línea 145   \n",
              "\n",
              "                        via_ingreso          derivacion_institucion  \\\n",
              "fecha_ingreso                                                         \n",
              "2020-01-01                Línea 145                          Protex   \n",
              "2020-01-01                Línea 145  Gendarmería Nacional Argentina   \n",
              "2020-01-02                Línea 145                          Protex   \n",
              "2020-01-02                Línea 145                          Protex   \n",
              "2020-01-02     Correo Institucional                          Protex   \n",
              "...                             ...                             ...   \n",
              "2023-07-31                Línea 145                          Protex   \n",
              "2023-07-31                Línea 145                          Protex   \n",
              "2023-07-31                Línea 145                          Protex   \n",
              "2023-07-31                Línea 145                          Protex   \n",
              "2023-07-31                Línea 145                          Protex   \n",
              "\n",
              "               derivacion_fecha derivacion_judicializa  \\\n",
              "fecha_ingreso                                            \n",
              "2020-01-01     2020-01-01 20:27                     Sí   \n",
              "2020-01-01     2020-01-01 20:52                     Sí   \n",
              "2020-01-02     2020-01-02 01:38                     Sí   \n",
              "2020-01-02     2020-06-24 15:13                     Sí   \n",
              "2020-01-02     2020-06-24 15:14                     Sí   \n",
              "...                         ...                    ...   \n",
              "2023-07-31     2023-07-31 14:38                     Sí   \n",
              "2023-07-31     2023-07-31 15:12                     Sí   \n",
              "2023-07-31     2023-07-31 17:24                     Sí   \n",
              "2023-07-31     2023-07-31 20:10                     Sí   \n",
              "2023-07-31     2023-07-31 20:29                     Sí   \n",
              "\n",
              "                         denunciante_provincia  \\\n",
              "fecha_ingreso                                    \n",
              "2020-01-01                                 NaN   \n",
              "2020-01-01     Ciudad Autónoma de Buenos Aires   \n",
              "2020-01-02                        Buenos Aires   \n",
              "2020-01-02                                 NaN   \n",
              "2020-01-02                                 NaN   \n",
              "...                                        ...   \n",
              "2023-07-31                          Entre Ríos   \n",
              "2023-07-31                             Córdoba   \n",
              "2023-07-31     Ciudad Autónoma de Buenos Aires   \n",
              "2023-07-31                          Entre Ríos   \n",
              "2023-07-31                          Entre Ríos   \n",
              "\n",
              "              denunciante_como_conocio_la_linea  \n",
              "fecha_ingreso                                    \n",
              "2020-01-01                                  NaN  \n",
              "2020-01-01                                  NaN  \n",
              "2020-01-02                                  NaN  \n",
              "2020-01-02           Por publicidad en internet  \n",
              "2020-01-02                                  NaN  \n",
              "...                                         ...  \n",
              "2023-07-31                                  NaN  \n",
              "2023-07-31                                  NaN  \n",
              "2023-07-31                                  NaN  \n",
              "2023-07-31        Concurrió en otra oportunidad  \n",
              "2023-07-31        Concurrió en otra oportunidad  \n",
              "\n",
              "[5912 rows x 16 columns]"
            ]
          },
          "execution_count": 51,
          "metadata": {},
          "output_type": "execute_result"
        }
      ],
      "source": [
        "df_denuncias"
      ]
    },
    {
      "cell_type": "markdown",
      "metadata": {},
      "source": [
        "# 2.O - CSV DENUNCIAS\n"
      ]
    },
    {
      "cell_type": "markdown",
      "metadata": {},
      "source": [
        "### 2.1 - IMPORTACION DE CSV"
      ]
    },
    {
      "cell_type": "code",
      "execution_count": null,
      "metadata": {},
      "outputs": [],
      "source": [
        "denuncias_path = ('../datos/csv procesados/limpios_denuncias.csv')\n",
        "df_denuncias = pd.read_csv(denuncias_path, index_col=0)"
      ]
    },
    {
      "cell_type": "markdown",
      "metadata": {},
      "source": [
        "### 2.2 - COLUMNAS"
      ]
    },
    {
      "cell_type": "markdown",
      "metadata": {},
      "source": [
        "#### 2.2.1 - TIPOS DE DATOS"
      ]
    },
    {
      "cell_type": "code",
      "execution_count": null,
      "metadata": {},
      "outputs": [
        {
          "name": "stdout",
          "output_type": "stream",
          "text": [
            "<class 'pandas.core.frame.DataFrame'>\n",
            "Index: 5912 entries, 2020-01-01 to 2023-07-31\n",
            "Data columns (total 16 columns):\n",
            " #   Column                             Non-Null Count  Dtype \n",
            "---  ------                             --------------  ----- \n",
            " 0   hora_ingreso                       2744 non-null   object\n",
            " 1   nro_registro_interno               5912 non-null   int64 \n",
            " 2   situacion                          5892 non-null   object\n",
            " 3   origen                             5912 non-null   object\n",
            " 4   es_anonima                         5912 non-null   object\n",
            " 5   tema                               5912 non-null   object\n",
            " 6   subtema                            5912 non-null   object\n",
            " 7   provincia                          5441 non-null   object\n",
            " 8   localidad                          5039 non-null   object\n",
            " 9   dependencia_alta                   5912 non-null   object\n",
            " 10  via_ingreso                        5911 non-null   object\n",
            " 11  derivacion_institucion             5503 non-null   object\n",
            " 12  derivacion_fecha                   5503 non-null   object\n",
            " 13  derivacion_judicializa             5503 non-null   object\n",
            " 14  denunciante_provincia              3025 non-null   object\n",
            " 15  denunciante_como_conocio_la_linea  1036 non-null   object\n",
            "dtypes: int64(1), object(15)\n",
            "memory usage: 785.2+ KB\n"
          ]
        }
      ],
      "source": [
        "df_denuncias.info()"
      ]
    },
    {
      "cell_type": "markdown",
      "metadata": {},
      "source": [
        "#### 2.2.2 - VALORES"
      ]
    },
    {
      "cell_type": "code",
      "execution_count": null,
      "metadata": {},
      "outputs": [],
      "source": []
    },
    {
      "cell_type": "markdown",
      "metadata": {},
      "source": [
        "#### 2.2.3 - CODIFICACION"
      ]
    },
    {
      "cell_type": "code",
      "execution_count": null,
      "metadata": {},
      "outputs": [],
      "source": []
    },
    {
      "cell_type": "markdown",
      "metadata": {},
      "source": [
        "#### 2.2.4 - ESCALAMIENTO"
      ]
    },
    {
      "cell_type": "code",
      "execution_count": null,
      "metadata": {},
      "outputs": [],
      "source": []
    },
    {
      "cell_type": "markdown",
      "metadata": {},
      "source": [
        "#### 2.2.5 - PORCENTAJE DE VALORES"
      ]
    },
    {
      "cell_type": "code",
      "execution_count": null,
      "metadata": {},
      "outputs": [],
      "source": []
    },
    {
      "cell_type": "markdown",
      "metadata": {},
      "source": [
        "#### 2.2.6 - MEDIDAS DE TENDENCIA CENTRAL"
      ]
    },
    {
      "cell_type": "code",
      "execution_count": null,
      "metadata": {},
      "outputs": [],
      "source": []
    },
    {
      "cell_type": "markdown",
      "metadata": {},
      "source": [
        "### 2.3.0 - CORRELACION"
      ]
    },
    {
      "cell_type": "code",
      "execution_count": null,
      "metadata": {},
      "outputs": [],
      "source": []
    },
    {
      "cell_type": "markdown",
      "metadata": {},
      "source": [
        "### 2.4.0 - ALMACENAMIENTO CSV"
      ]
    },
    {
      "cell_type": "code",
      "execution_count": null,
      "metadata": {},
      "outputs": [],
      "source": []
    },
    {
      "cell_type": "markdown",
      "metadata": {
        "id": "5g8EQjRiNCM0"
      },
      "source": [
        "#### 2.2.2 - VALORES"
      ]
    },
    {
      "cell_type": "code",
      "execution_count": 17,
      "metadata": {
        "id": "R9NCyKsRNCM1"
      },
      "outputs": [],
      "source": []
    },
    {
      "cell_type": "markdown",
      "metadata": {
        "id": "THyPA5HgNCM1"
      },
      "source": [
        "#### 2.2.3 - CODIFICACION"
      ]
    },
    {
      "cell_type": "code",
      "execution_count": 18,
      "metadata": {
        "id": "TJGwNMUHNCM2"
      },
      "outputs": [],
      "source": []
    },
    {
      "cell_type": "markdown",
      "metadata": {
        "id": "C6jwJMAbNCNG"
      },
      "source": [
        "#### 2.2.4 - ESCALAMIENTO"
      ]
    },
    {
      "cell_type": "code",
      "execution_count": 9,
      "metadata": {
        "id": "6JSdeuJDNCNJ"
      },
      "outputs": [],
      "source": []
    },
    {
      "cell_type": "markdown",
      "metadata": {
        "id": "2bMT7tRQNCNK"
      },
      "source": [
        "#### 2.2.5 - PORCENTAJE DE VALORES"
      ]
    },
    {
      "cell_type": "code",
      "execution_count": null,
      "metadata": {},
      "outputs": [],
      "source": []
    },
    {
      "cell_type": "markdown",
      "metadata": {
        "id": "6aotS7e1NCNT"
      },
      "source": [
        "#### 2.2.6 - MEDIDAS DE TENDENCIA CENTRAL"
      ]
    },
    {
      "cell_type": "code",
      "execution_count": null,
      "metadata": {},
      "outputs": [],
      "source": []
    },
    {
      "cell_type": "markdown",
      "metadata": {
        "id": "b6vH15xcNCNZ"
      },
      "source": [
        "### 2.3.0 - CORRELACION"
      ]
    },
    {
      "cell_type": "code",
      "execution_count": null,
      "metadata": {},
      "outputs": [],
      "source": []
    },
    {
      "cell_type": "markdown",
      "metadata": {
        "id": "GBNTg_lecbIp"
      },
      "source": [
        "### 2.4.0 - ALMACENAMIENTO CSV"
      ]
    },
    {
      "cell_type": "code",
      "execution_count": null,
      "metadata": {},
      "outputs": [],
      "source": []
    },
    {
      "cell_type": "markdown",
      "metadata": {},
      "source": [
        "# 2.O - CSV ORIENTACIONES\n"
      ]
    },
    {
      "cell_type": "markdown",
      "metadata": {},
      "source": [
        "### 2.1 - IMPORTACION DE CSV"
      ]
    },
    {
      "cell_type": "code",
      "execution_count": null,
      "metadata": {},
      "outputs": [],
      "source": []
    },
    {
      "cell_type": "markdown",
      "metadata": {},
      "source": [
        "### 2.2 - COLUMNAS"
      ]
    },
    {
      "cell_type": "markdown",
      "metadata": {},
      "source": [
        "#### 2.2.1 - TIPOS DE DATOS"
      ]
    },
    {
      "cell_type": "code",
      "execution_count": null,
      "metadata": {},
      "outputs": [],
      "source": []
    },
    {
      "cell_type": "markdown",
      "metadata": {},
      "source": [
        "#### 2.2.2 - VALORES"
      ]
    },
    {
      "cell_type": "code",
      "execution_count": null,
      "metadata": {},
      "outputs": [],
      "source": []
    },
    {
      "cell_type": "markdown",
      "metadata": {},
      "source": [
        "#### 2.2.3 - CODIFICACION"
      ]
    },
    {
      "cell_type": "code",
      "execution_count": null,
      "metadata": {},
      "outputs": [],
      "source": []
    },
    {
      "cell_type": "markdown",
      "metadata": {},
      "source": [
        "#### 2.2.4 - ESCALAMIENTO"
      ]
    },
    {
      "cell_type": "code",
      "execution_count": null,
      "metadata": {},
      "outputs": [],
      "source": []
    },
    {
      "cell_type": "markdown",
      "metadata": {},
      "source": [
        "#### 2.2.5 - PORCENTAJE DE VALORES"
      ]
    },
    {
      "cell_type": "code",
      "execution_count": null,
      "metadata": {},
      "outputs": [],
      "source": []
    },
    {
      "cell_type": "markdown",
      "metadata": {},
      "source": [
        "#### 2.2.6 - MEDIDAS DE TENDENCIA CENTRAL"
      ]
    },
    {
      "cell_type": "code",
      "execution_count": null,
      "metadata": {},
      "outputs": [],
      "source": []
    },
    {
      "cell_type": "markdown",
      "metadata": {},
      "source": [
        "### 2.3.0 - CORRELACION"
      ]
    },
    {
      "cell_type": "code",
      "execution_count": null,
      "metadata": {},
      "outputs": [],
      "source": []
    },
    {
      "cell_type": "markdown",
      "metadata": {},
      "source": [
        "### 2.4.0 - ALMACENAMIENTO CSV"
      ]
    },
    {
      "cell_type": "code",
      "execution_count": null,
      "metadata": {},
      "outputs": [],
      "source": []
    }
  ],
  "metadata": {
    "colab": {
      "provenance": []
    },
    "kernelspec": {
      "display_name": "Python 3",
      "language": "python",
      "name": "python3"
    },
    "language_info": {
      "codemirror_mode": {
        "name": "ipython",
        "version": 3
      },
      "file_extension": ".py",
      "mimetype": "text/x-python",
      "name": "python",
      "nbconvert_exporter": "python",
      "pygments_lexer": "ipython3",
      "version": "3.11.4"
    },
    "orig_nbformat": 4
  },
  "nbformat": 4,
  "nbformat_minor": 0
}
