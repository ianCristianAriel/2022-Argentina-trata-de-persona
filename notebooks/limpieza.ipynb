{
 "cells": [
  {
   "cell_type": "markdown",
   "metadata": {},
   "source": [
    "### Librerias"
   ]
  },
  {
   "cell_type": "code",
   "execution_count": 173,
   "metadata": {},
   "outputs": [],
   "source": [
    "#importo librerias\n",
    "import pandas as pd\n",
    "import re\n",
    "import numpy as np\n",
    "import missingno as msno\n",
    "import re"
   ]
  },
  {
   "cell_type": "code",
   "execution_count": 174,
   "metadata": {},
   "outputs": [],
   "source": [
    "#Listas de valores nulos\n",
    "common_na_strings = [\"missing\",\n",
    "    \"NA\",\n",
    "    \"N A\",\n",
    "    \"N/A\",\n",
    "    \"#N/A\",\n",
    "    \"NA \",\n",
    "    \" NA\",\n",
    "    \"N /A\",\n",
    "    \"N / A\",\n",
    "    \" N / A\",\n",
    "    \"N / A \",\n",
    "    \"na\",\n",
    "    \"n a\",\n",
    "    \"n/a\",\n",
    "    \"na \",\n",
    "    \" na\",\n",
    "    \"n /a\",\n",
    "    \"n / a\",\n",
    "    \" a / a\",\n",
    "    \"n / a \",\n",
    "    \"NULL\",\n",
    "    \"null\",\n",
    "    \"\",\n",
    "    \"?\",\n",
    "    \"*\",\n",
    "    \".\",]\n",
    "\n",
    "common_na_numbers = (-9, -99, -999, -9999, 9999, 66, 77, 88, -1)"
   ]
  },
  {
   "cell_type": "markdown",
   "metadata": {},
   "source": [
    "# Camaras\n"
   ]
  },
  {
   "cell_type": "markdown",
   "metadata": {},
   "source": [
    "### Carga CSV"
   ]
  },
  {
   "cell_type": "code",
   "execution_count": 175,
   "metadata": {},
   "outputs": [],
   "source": [
    "#Lecturas de csv de camaras\n",
    "camaras = pd.read_csv(\"../datos/csv brutos/2022_madrid_camaras_viapublica.csv\",  encoding='iso-8859-1', index_col=0)"
   ]
  },
  {
   "cell_type": "code",
   "execution_count": 176,
   "metadata": {},
   "outputs": [
    {
     "data": {
      "text/html": [
       "<div>\n",
       "<style scoped>\n",
       "    .dataframe tbody tr th:only-of-type {\n",
       "        vertical-align: middle;\n",
       "    }\n",
       "\n",
       "    .dataframe tbody tr th {\n",
       "        vertical-align: top;\n",
       "    }\n",
       "\n",
       "    .dataframe thead th {\n",
       "        text-align: right;\n",
       "    }\n",
       "</style>\n",
       "<table border=\"1\" class=\"dataframe\">\n",
       "  <thead>\n",
       "    <tr style=\"text-align: right;\">\n",
       "      <th></th>\n",
       "      <th>PK</th>\n",
       "      <th>NOMBRE</th>\n",
       "      <th>TRANSPORTE</th>\n",
       "      <th>ACCESIBILIDAD</th>\n",
       "      <th>NOMBRE-VIA</th>\n",
       "      <th>CLASE-VIAL</th>\n",
       "      <th>TIPO-NUM</th>\n",
       "      <th>NUM</th>\n",
       "      <th>LOCALIDAD</th>\n",
       "      <th>CODIGO-POSTAL</th>\n",
       "      <th>COD-BARRIO</th>\n",
       "      <th>BARRIO</th>\n",
       "      <th>COD-DISTRITO</th>\n",
       "      <th>DISTRITO</th>\n",
       "      <th>COORDENADA-X</th>\n",
       "      <th>COORDENADA-Y</th>\n",
       "      <th>LATITUD</th>\n",
       "      <th>LONGITUD</th>\n",
       "      <th>TELEFONO</th>\n",
       "    </tr>\n",
       "  </thead>\n",
       "  <tbody>\n",
       "    <tr>\n",
       "      <th>34</th>\n",
       "      <td>6273905</td>\n",
       "      <td>Juzgados de lo Penal. Calle AlbarracÃ¯Â¿Â½n</td>\n",
       "      <td>Metro: Ascao (lÃ¯Â¿Â½nea 7) / GarcÃ¯Â¿Â½a Nobl...</td>\n",
       "      <td>3</td>\n",
       "      <td>ALBARRACIN</td>\n",
       "      <td>CALLE</td>\n",
       "      <td>V</td>\n",
       "      <td>31</td>\n",
       "      <td>MADRID</td>\n",
       "      <td>28037</td>\n",
       "      <td>1</td>\n",
       "      <td>SIMANCAS</td>\n",
       "      <td>20</td>\n",
       "      <td>SAN BLAS-CANILLEJAS</td>\n",
       "      <td>446428</td>\n",
       "      <td>4476044</td>\n",
       "      <td>40.433319</td>\n",
       "      <td>-3.631605</td>\n",
       "      <td>Ver pestaÃ¯Â¿Â½a MÃ¯Â¿Â½s informaciÃ¯Â¿Â½n</td>\n",
       "    </tr>\n",
       "    <tr>\n",
       "      <th>29</th>\n",
       "      <td>7613531</td>\n",
       "      <td>Juzgado de Guardia. Plaza de Castilla</td>\n",
       "      <td>Metro: Plaza de Castilla (lÃ¯Â¿Â½neas 1, 9 y 1...</td>\n",
       "      <td>3</td>\n",
       "      <td>CASTILLA</td>\n",
       "      <td>PLAZA</td>\n",
       "      <td>V</td>\n",
       "      <td>1</td>\n",
       "      <td>MADRID</td>\n",
       "      <td>28046</td>\n",
       "      <td>3</td>\n",
       "      <td>CASTILLEJOS</td>\n",
       "      <td>6</td>\n",
       "      <td>TETUAN</td>\n",
       "      <td>441486</td>\n",
       "      <td>4479615</td>\n",
       "      <td>40.465150</td>\n",
       "      <td>-3.690203</td>\n",
       "      <td>Ver pestaÃ¯Â¿Â½a MÃ¯Â¿Â½s informaciÃ¯Â¿Â½n</td>\n",
       "    </tr>\n",
       "    <tr>\n",
       "      <th>45</th>\n",
       "      <td>5378170</td>\n",
       "      <td>Registro Civil Central. Servicio de Certificados</td>\n",
       "      <td>Metro: Sol (lÃ¯Â¿Â½neas 1, 2, 3), Gran VÃ¯Â¿Â½...</td>\n",
       "      <td>3</td>\n",
       "      <td>MONTERA</td>\n",
       "      <td>CALLE</td>\n",
       "      <td>V</td>\n",
       "      <td>18</td>\n",
       "      <td>MADRID</td>\n",
       "      <td>28013</td>\n",
       "      <td>6</td>\n",
       "      <td>SOL</td>\n",
       "      <td>1</td>\n",
       "      <td>CENTRO</td>\n",
       "      <td>440394</td>\n",
       "      <td>4474380</td>\n",
       "      <td>40.417913</td>\n",
       "      <td>-3.702591</td>\n",
       "      <td>902 007 214</td>\n",
       "    </tr>\n",
       "  </tbody>\n",
       "</table>\n",
       "</div>"
      ],
      "text/plain": [
       "         PK                                            NOMBRE  \\\n",
       "34  6273905       Juzgados de lo Penal. Calle AlbarracÃ¯Â¿Â½n   \n",
       "29  7613531             Juzgado de Guardia. Plaza de Castilla   \n",
       "45  5378170  Registro Civil Central. Servicio de Certificados   \n",
       "\n",
       "                                           TRANSPORTE  ACCESIBILIDAD  \\\n",
       "34  Metro: Ascao (lÃ¯Â¿Â½nea 7) / GarcÃ¯Â¿Â½a Nobl...              3   \n",
       "29  Metro: Plaza de Castilla (lÃ¯Â¿Â½neas 1, 9 y 1...              3   \n",
       "45  Metro: Sol (lÃ¯Â¿Â½neas 1, 2, 3), Gran VÃ¯Â¿Â½...              3   \n",
       "\n",
       "    NOMBRE-VIA CLASE-VIAL TIPO-NUM  NUM LOCALIDAD  CODIGO-POSTAL  COD-BARRIO  \\\n",
       "34  ALBARRACIN      CALLE        V   31    MADRID          28037           1   \n",
       "29    CASTILLA      PLAZA        V    1    MADRID          28046           3   \n",
       "45     MONTERA      CALLE        V   18    MADRID          28013           6   \n",
       "\n",
       "         BARRIO  COD-DISTRITO             DISTRITO  COORDENADA-X  \\\n",
       "34     SIMANCAS            20  SAN BLAS-CANILLEJAS        446428   \n",
       "29  CASTILLEJOS             6               TETUAN        441486   \n",
       "45          SOL             1               CENTRO        440394   \n",
       "\n",
       "    COORDENADA-Y    LATITUD  LONGITUD  \\\n",
       "34       4476044  40.433319 -3.631605   \n",
       "29       4479615  40.465150 -3.690203   \n",
       "45       4474380  40.417913 -3.702591   \n",
       "\n",
       "                                      TELEFONO  \n",
       "34  Ver pestaÃ¯Â¿Â½a MÃ¯Â¿Â½s informaciÃ¯Â¿Â½n  \n",
       "29  Ver pestaÃ¯Â¿Â½a MÃ¯Â¿Â½s informaciÃ¯Â¿Â½n  \n",
       "45                                 902 007 214  "
      ]
     },
     "execution_count": 176,
     "metadata": {},
     "output_type": "execute_result"
    }
   ],
   "source": [
    "camaras.sample(3, random_state=5)"
   ]
  },
  {
   "cell_type": "markdown",
   "metadata": {},
   "source": [
    "### Modificacion columnas"
   ]
  },
  {
   "cell_type": "code",
   "execution_count": 177,
   "metadata": {},
   "outputs": [],
   "source": [
    "#Lista con nombre de columnas que deben ser borradas\n",
    "columnas_camaras = ['COD-DISTRITO', 'COD-BARRIO', 'TRANSPORTE', 'TIPO-NUM', 'COD-DISTRITO', 'COD-BARRIO']\n",
    "#Si la columna se encuentra en al df, la elimino\n",
    "camaras = camaras.drop(columnas_camaras, axis = 1)"
   ]
  },
  {
   "cell_type": "code",
   "execution_count": 178,
   "metadata": {},
   "outputs": [],
   "source": [
    "#Renombro las columnas de mayuscula a minuscula\n",
    "camaras.rename(\n",
    "    columns={\n",
    "        'LOCALIDAD':'camaras_localidad',\n",
    "        'LONGITUD':'camaras_longitud',\n",
    "        'LATITUD':'camaras_latitud',\n",
    "        'NUM' : 'camaras_via_numero',\n",
    "        'CODIGO-POSTAL' : 'camaras_codigo_postal',\n",
    "        'BARRIO': 'camaras_barrio',\n",
    "        'PK':'camaras_pk', \n",
    "        'DISTRITO':'camaras_distrito',\n",
    "        'ACCESIBILIDAD':'camaras_accesibilidad',\n",
    "        'TELEFONO':'camaras_propietario_telefono',\n",
    "        'COORDENADA-X':'camaras_coordenada_utm_x', \n",
    "        'COORDENADA-Y':'camaras_coordenada_utm_y', \n",
    "        'NOMBRE':'camaras_propietario', \n",
    "        'NOMBRE-VIA':'camaras_via_nombre', \n",
    "        'CLASE-VIAL':'camaras_via_clase'}\n",
    "        , inplace=True)"
   ]
  },
  {
   "cell_type": "code",
   "execution_count": 179,
   "metadata": {},
   "outputs": [],
   "source": [
    "#Se coloca la columna con valores unicos (PK), como indice\n",
    "camaras.set_index('camaras_pk', inplace = True, verify_integrity=True)"
   ]
  },
  {
   "cell_type": "markdown",
   "metadata": {},
   "source": [
    "### Valores"
   ]
  },
  {
   "cell_type": "markdown",
   "metadata": {},
   "source": [
    "### Limpieza de valores con simbolos extraños\n"
   ]
  },
  {
   "cell_type": "code",
   "execution_count": 180,
   "metadata": {},
   "outputs": [],
   "source": [
    "# Aplicar la función a la columna 'texto_columna'\n",
    "camaras['camaras_propietario_telefono'] = camaras['camaras_propietario_telefono'].apply(lambda numero: ''.join(re.findall(r'\\d{2,12}', numero)))\n",
    "camaras['camaras_propietario'] = camaras['camaras_propietario'].apply(lambda propietario: ''.join(re.findall(r'[[\\w]*[\\s]?]*', propietario))).apply(lambda propietario: re.sub(r'[Â½]*[Â½]?', '', propietario))\n",
    "camaras['camaras_via_nombre'] = camaras['camaras_via_nombre'].apply(lambda nombre_via: ''.join(re.sub(r'[a-z]*', '', nombre_via)))"
   ]
  },
  {
   "cell_type": "code",
   "execution_count": 181,
   "metadata": {},
   "outputs": [],
   "source": [
    "#Conversion de los valores de la columna \"propietario\" a mayusculas\n",
    "camaras.camaras_propietario = camaras.camaras_propietario.str.upper()"
   ]
  },
  {
   "cell_type": "markdown",
   "metadata": {},
   "source": [
    "### Remplazo Na"
   ]
  },
  {
   "cell_type": "code",
   "execution_count": 182,
   "metadata": {},
   "outputs": [],
   "source": [
    "#Se elige el df de camaras\n",
    "camaras = camaras.replace(\n",
    "        to_replace=common_na_strings, #Se le pasa el filtro de elementos que se tomaran como nulos/na\n",
    "        value=np.nan #Este esl valor que tomaran todos los elementos que considan con el filtro\n",
    "    ).replace(\n",
    "        to_replace=common_na_numbers, #Se le pasa el filtro de elementos que se tomaran como nulos/na\n",
    "        value=np.nan #Este esl valor que tomaran todos los elementos que considan con el filtro\n",
    "    )"
   ]
  },
  {
   "cell_type": "code",
   "execution_count": 183,
   "metadata": {},
   "outputs": [],
   "source": [
    "# Agregar columna independiente de valores faltantes en columnas importantes\n",
    "valores_a_revisar = ['camaras_propietario', 'camaras_via_nombre', 'camaras_via_clase', 'camaras_distrito', 'camaras_coordenada_utm_x', 'camaras_coordenada_utm_y']\n",
    "\n",
    "# Aplicar la actualización\n",
    "camaras['camaras_relevantes_faltantes'] = np.where(camaras[valores_a_revisar].isna().any(axis=1), 'REVISAR', 'COMPLETO')"
   ]
  },
  {
   "cell_type": "code",
   "execution_count": 184,
   "metadata": {},
   "outputs": [
    {
     "data": {
      "text/html": [
       "<div>\n",
       "<style scoped>\n",
       "    .dataframe tbody tr th:only-of-type {\n",
       "        vertical-align: middle;\n",
       "    }\n",
       "\n",
       "    .dataframe tbody tr th {\n",
       "        vertical-align: top;\n",
       "    }\n",
       "\n",
       "    .dataframe thead th {\n",
       "        text-align: right;\n",
       "    }\n",
       "</style>\n",
       "<table border=\"1\" class=\"dataframe\">\n",
       "  <thead>\n",
       "    <tr style=\"text-align: right;\">\n",
       "      <th></th>\n",
       "      <th>camaras_propietario</th>\n",
       "      <th>camaras_accesibilidad</th>\n",
       "      <th>camaras_via_nombre</th>\n",
       "      <th>camaras_via_clase</th>\n",
       "      <th>camaras_via_numero</th>\n",
       "      <th>camaras_localidad</th>\n",
       "      <th>camaras_codigo_postal</th>\n",
       "      <th>camaras_barrio</th>\n",
       "      <th>camaras_distrito</th>\n",
       "      <th>camaras_coordenada_utm_x</th>\n",
       "      <th>camaras_coordenada_utm_y</th>\n",
       "      <th>camaras_latitud</th>\n",
       "      <th>camaras_longitud</th>\n",
       "      <th>camaras_propietario_telefono</th>\n",
       "      <th>camaras_relevantes_faltantes</th>\n",
       "    </tr>\n",
       "    <tr>\n",
       "      <th>camaras_pk</th>\n",
       "      <th></th>\n",
       "      <th></th>\n",
       "      <th></th>\n",
       "      <th></th>\n",
       "      <th></th>\n",
       "      <th></th>\n",
       "      <th></th>\n",
       "      <th></th>\n",
       "      <th></th>\n",
       "      <th></th>\n",
       "      <th></th>\n",
       "      <th></th>\n",
       "      <th></th>\n",
       "      <th></th>\n",
       "      <th></th>\n",
       "    </tr>\n",
       "  </thead>\n",
       "  <tbody>\n",
       "    <tr>\n",
       "      <th>7612756</th>\n",
       "      <td>FISCALÃA  VIOLENCIA FAMILIAR</td>\n",
       "      <td>3</td>\n",
       "      <td>ALBARRACIN</td>\n",
       "      <td>NaN</td>\n",
       "      <td>31.0</td>\n",
       "      <td>MADRID</td>\n",
       "      <td>28037</td>\n",
       "      <td>SIMANCAS</td>\n",
       "      <td>SAN BLAS-CANILLEJAS</td>\n",
       "      <td>446428</td>\n",
       "      <td>4476044</td>\n",
       "      <td>40.433319</td>\n",
       "      <td>-3.631605</td>\n",
       "      <td>914932422914933111</td>\n",
       "      <td>REVISAR</td>\n",
       "    </tr>\n",
       "  </tbody>\n",
       "</table>\n",
       "</div>"
      ],
      "text/plain": [
       "                     camaras_propietario  camaras_accesibilidad  \\\n",
       "camaras_pk                                                        \n",
       "7612756     FISCALÃA  VIOLENCIA FAMILIAR                      3   \n",
       "\n",
       "           camaras_via_nombre camaras_via_clase  camaras_via_numero  \\\n",
       "camaras_pk                                                            \n",
       "7612756            ALBARRACIN               NaN                31.0   \n",
       "\n",
       "           camaras_localidad  camaras_codigo_postal camaras_barrio  \\\n",
       "camaras_pk                                                           \n",
       "7612756               MADRID                  28037       SIMANCAS   \n",
       "\n",
       "               camaras_distrito  camaras_coordenada_utm_x  \\\n",
       "camaras_pk                                                  \n",
       "7612756     SAN BLAS-CANILLEJAS                    446428   \n",
       "\n",
       "            camaras_coordenada_utm_y  camaras_latitud  camaras_longitud  \\\n",
       "camaras_pk                                                                \n",
       "7612756                      4476044        40.433319         -3.631605   \n",
       "\n",
       "           camaras_propietario_telefono camaras_relevantes_faltantes  \n",
       "camaras_pk                                                            \n",
       "7612756              914932422914933111                      REVISAR  "
      ]
     },
     "execution_count": 184,
     "metadata": {},
     "output_type": "execute_result"
    }
   ],
   "source": [
    "camaras.loc[camaras['camaras_relevantes_faltantes']=='REVISAR']"
   ]
  },
  {
   "cell_type": "code",
   "execution_count": 185,
   "metadata": {},
   "outputs": [
    {
     "data": {
      "text/html": [
       "<div>\n",
       "<style scoped>\n",
       "    .dataframe tbody tr th:only-of-type {\n",
       "        vertical-align: middle;\n",
       "    }\n",
       "\n",
       "    .dataframe tbody tr th {\n",
       "        vertical-align: top;\n",
       "    }\n",
       "\n",
       "    .dataframe thead th {\n",
       "        text-align: right;\n",
       "    }\n",
       "</style>\n",
       "<table border=\"1\" class=\"dataframe\">\n",
       "  <thead>\n",
       "    <tr style=\"text-align: right;\">\n",
       "      <th></th>\n",
       "      <th>camaras_propietario</th>\n",
       "      <th>camaras_accesibilidad</th>\n",
       "      <th>camaras_via_nombre</th>\n",
       "      <th>camaras_via_clase</th>\n",
       "      <th>camaras_via_numero</th>\n",
       "      <th>camaras_localidad</th>\n",
       "      <th>camaras_codigo_postal</th>\n",
       "      <th>camaras_barrio</th>\n",
       "      <th>camaras_distrito</th>\n",
       "      <th>camaras_coordenada_utm_x</th>\n",
       "      <th>camaras_coordenada_utm_y</th>\n",
       "      <th>camaras_latitud</th>\n",
       "      <th>camaras_longitud</th>\n",
       "      <th>camaras_propietario_telefono</th>\n",
       "      <th>camaras_relevantes_faltantes</th>\n",
       "    </tr>\n",
       "    <tr>\n",
       "      <th>camaras_pk</th>\n",
       "      <th></th>\n",
       "      <th></th>\n",
       "      <th></th>\n",
       "      <th></th>\n",
       "      <th></th>\n",
       "      <th></th>\n",
       "      <th></th>\n",
       "      <th></th>\n",
       "      <th></th>\n",
       "      <th></th>\n",
       "      <th></th>\n",
       "      <th></th>\n",
       "      <th></th>\n",
       "      <th></th>\n",
       "      <th></th>\n",
       "    </tr>\n",
       "  </thead>\n",
       "  <tbody>\n",
       "    <tr>\n",
       "      <th>6273905</th>\n",
       "      <td>JUZGADOS DE LO PENAL CALLE ALBARRACÃN</td>\n",
       "      <td>3</td>\n",
       "      <td>ALBARRACIN</td>\n",
       "      <td>CALLE</td>\n",
       "      <td>31.0</td>\n",
       "      <td>MADRID</td>\n",
       "      <td>28037</td>\n",
       "      <td>SIMANCAS</td>\n",
       "      <td>SAN BLAS-CANILLEJAS</td>\n",
       "      <td>446428</td>\n",
       "      <td>4476044</td>\n",
       "      <td>40.433319</td>\n",
       "      <td>-3.631605</td>\n",
       "      <td>NaN</td>\n",
       "      <td>COMPLETO</td>\n",
       "    </tr>\n",
       "    <tr>\n",
       "      <th>7613531</th>\n",
       "      <td>JUZGADO DE GUARDIA PLAZA DE CASTILLA</td>\n",
       "      <td>3</td>\n",
       "      <td>CASTILLA</td>\n",
       "      <td>PLAZA</td>\n",
       "      <td>1.0</td>\n",
       "      <td>MADRID</td>\n",
       "      <td>28046</td>\n",
       "      <td>CASTILLEJOS</td>\n",
       "      <td>TETUAN</td>\n",
       "      <td>441486</td>\n",
       "      <td>4479615</td>\n",
       "      <td>40.465150</td>\n",
       "      <td>-3.690203</td>\n",
       "      <td>NaN</td>\n",
       "      <td>COMPLETO</td>\n",
       "    </tr>\n",
       "    <tr>\n",
       "      <th>5378170</th>\n",
       "      <td>REGISTRO CIVIL CENTRAL SERVICIO DE CERTIFICADOS</td>\n",
       "      <td>3</td>\n",
       "      <td>MONTERA</td>\n",
       "      <td>CALLE</td>\n",
       "      <td>18.0</td>\n",
       "      <td>MADRID</td>\n",
       "      <td>28013</td>\n",
       "      <td>SOL</td>\n",
       "      <td>CENTRO</td>\n",
       "      <td>440394</td>\n",
       "      <td>4474380</td>\n",
       "      <td>40.417913</td>\n",
       "      <td>-3.702591</td>\n",
       "      <td>902007214</td>\n",
       "      <td>COMPLETO</td>\n",
       "    </tr>\n",
       "  </tbody>\n",
       "</table>\n",
       "</div>"
      ],
      "text/plain": [
       "                                        camaras_propietario  \\\n",
       "camaras_pk                                                    \n",
       "6273905               JUZGADOS DE LO PENAL CALLE ALBARRACÃN   \n",
       "7613531                JUZGADO DE GUARDIA PLAZA DE CASTILLA   \n",
       "5378170     REGISTRO CIVIL CENTRAL SERVICIO DE CERTIFICADOS   \n",
       "\n",
       "            camaras_accesibilidad camaras_via_nombre camaras_via_clase  \\\n",
       "camaras_pk                                                               \n",
       "6273905                         3         ALBARRACIN             CALLE   \n",
       "7613531                         3           CASTILLA             PLAZA   \n",
       "5378170                         3            MONTERA             CALLE   \n",
       "\n",
       "            camaras_via_numero camaras_localidad  camaras_codigo_postal  \\\n",
       "camaras_pk                                                                \n",
       "6273905                   31.0            MADRID                  28037   \n",
       "7613531                    1.0            MADRID                  28046   \n",
       "5378170                   18.0            MADRID                  28013   \n",
       "\n",
       "           camaras_barrio     camaras_distrito  camaras_coordenada_utm_x  \\\n",
       "camaras_pk                                                                 \n",
       "6273905          SIMANCAS  SAN BLAS-CANILLEJAS                    446428   \n",
       "7613531       CASTILLEJOS               TETUAN                    441486   \n",
       "5378170               SOL               CENTRO                    440394   \n",
       "\n",
       "            camaras_coordenada_utm_y  camaras_latitud  camaras_longitud  \\\n",
       "camaras_pk                                                                \n",
       "6273905                      4476044        40.433319         -3.631605   \n",
       "7613531                      4479615        40.465150         -3.690203   \n",
       "5378170                      4474380        40.417913         -3.702591   \n",
       "\n",
       "           camaras_propietario_telefono camaras_relevantes_faltantes  \n",
       "camaras_pk                                                            \n",
       "6273905                             NaN                     COMPLETO  \n",
       "7613531                             NaN                     COMPLETO  \n",
       "5378170                       902007214                     COMPLETO  "
      ]
     },
     "execution_count": 185,
     "metadata": {},
     "output_type": "execute_result"
    }
   ],
   "source": [
    "camaras.sample(3, random_state=5)"
   ]
  },
  {
   "cell_type": "code",
   "execution_count": 186,
   "metadata": {},
   "outputs": [
    {
     "data": {
      "text/plain": [
       "camaras_propietario              0\n",
       "camaras_accesibilidad            0\n",
       "camaras_via_nombre               0\n",
       "camaras_via_clase                1\n",
       "camaras_via_numero               2\n",
       "camaras_localidad                0\n",
       "camaras_codigo_postal            0\n",
       "camaras_barrio                   0\n",
       "camaras_distrito                 0\n",
       "camaras_coordenada_utm_x         0\n",
       "camaras_coordenada_utm_y         0\n",
       "camaras_latitud                  0\n",
       "camaras_longitud                 0\n",
       "camaras_propietario_telefono    18\n",
       "camaras_relevantes_faltantes     0\n",
       "dtype: int64"
      ]
     },
     "execution_count": 186,
     "metadata": {},
     "output_type": "execute_result"
    }
   ],
   "source": [
    "#sumo los valores nulos por columna\n",
    "camaras.isnull().sum()"
   ]
  },
  {
   "cell_type": "code",
   "execution_count": 187,
   "metadata": {},
   "outputs": [
    {
     "data": {
      "text/plain": [
       "<AxesSubplot:>"
      ]
     },
     "execution_count": 187,
     "metadata": {},
     "output_type": "execute_result"
    },
    {
     "data": {
      "image/png": "[encoded data removed]",
      "text/plain": [
       "<Figure size 2500x1000 with 2 Axes>"
      ]
     },
     "metadata": {},
     "output_type": "display_data"
    }
   ],
   "source": [
    "#matriz de valores nulos\n",
    "msno.matrix(camaras)"
   ]
  },
  {
   "cell_type": "markdown",
   "metadata": {},
   "source": [
    "### Guardado de CSV"
   ]
  },
  {
   "cell_type": "code",
   "execution_count": 188,
   "metadata": {},
   "outputs": [],
   "source": [
    "#Reordeno las columnas en su estado final\n",
    "camaras = camaras.reindex(columns=['camaras_codigo_postal', 'camaras_distrito', 'camaras_localidad','camaras_barrio', 'camaras_via_clase', 'camaras_via_nombre', 'camaras_via_numero','camaras_latitud', 'camaras_longitud','camaras_coordenada_utm_x', 'camaras_coordenada_utm_y', 'camaras_accesibilidad', 'camaras_propietario', 'camaras_propietario_telefono',  'camaras_relevantes_faltantes'])"
   ]
  },
  {
   "cell_type": "code",
   "execution_count": 189,
   "metadata": {},
   "outputs": [],
   "source": [
    "camaras.to_csv('../datos/csv procesados/2022_madrid_camaras.csv', index=True)"
   ]
  },
  {
   "cell_type": "code",
   "execution_count": 190,
   "metadata": {},
   "outputs": [],
   "source": [
    "camaras.to_excel('../datos/csv procesados/2022_madrid_camaras.xlsx', index=True)"
   ]
  },
  {
   "cell_type": "markdown",
   "metadata": {},
   "source": [
    "# Accidentes\n"
   ]
  },
  {
   "cell_type": "markdown",
   "metadata": {},
   "source": [
    "### Lectura CSV"
   ]
  },
  {
   "cell_type": "code",
   "execution_count": 191,
   "metadata": {},
   "outputs": [],
   "source": [
    "#Lectura de csv de accidentes\n",
    "accidentes = pd.read_csv('../datos/csv brutos/2022_madrid_accidentalidad.csv', encoding='iso-8859-1', sep=';', index_col=0)"
   ]
  },
  {
   "cell_type": "code",
   "execution_count": 192,
   "metadata": {},
   "outputs": [
    {
     "data": {
      "text/html": [
       "<div>\n",
       "<style scoped>\n",
       "    .dataframe tbody tr th:only-of-type {\n",
       "        vertical-align: middle;\n",
       "    }\n",
       "\n",
       "    .dataframe tbody tr th {\n",
       "        vertical-align: top;\n",
       "    }\n",
       "\n",
       "    .dataframe thead th {\n",
       "        text-align: right;\n",
       "    }\n",
       "</style>\n",
       "<table border=\"1\" class=\"dataframe\">\n",
       "  <thead>\n",
       "    <tr style=\"text-align: right;\">\n",
       "      <th></th>\n",
       "      <th>fecha</th>\n",
       "      <th>hora</th>\n",
       "      <th>localizacion</th>\n",
       "      <th>numero</th>\n",
       "      <th>cod_distrito</th>\n",
       "      <th>distrito</th>\n",
       "      <th>tipo_accidente</th>\n",
       "      <th>estado_meteorolÃ³gico</th>\n",
       "      <th>tipo_vehiculo</th>\n",
       "      <th>tipo_persona</th>\n",
       "      <th>rango_edad</th>\n",
       "      <th>sexo</th>\n",
       "      <th>cod_lesividad</th>\n",
       "      <th>lesividad</th>\n",
       "      <th>coordenada_x_utm</th>\n",
       "      <th>coordenada_y_utm</th>\n",
       "      <th>positiva_alcohol</th>\n",
       "      <th>positiva_droga</th>\n",
       "      <th>Unnamed: 19</th>\n",
       "      <th>Unnamed: 20</th>\n",
       "    </tr>\n",
       "    <tr>\n",
       "      <th>ï»¿num_expediente</th>\n",
       "      <th></th>\n",
       "      <th></th>\n",
       "      <th></th>\n",
       "      <th></th>\n",
       "      <th></th>\n",
       "      <th></th>\n",
       "      <th></th>\n",
       "      <th></th>\n",
       "      <th></th>\n",
       "      <th></th>\n",
       "      <th></th>\n",
       "      <th></th>\n",
       "      <th></th>\n",
       "      <th></th>\n",
       "      <th></th>\n",
       "      <th></th>\n",
       "      <th></th>\n",
       "      <th></th>\n",
       "      <th></th>\n",
       "      <th></th>\n",
       "    </tr>\n",
       "  </thead>\n",
       "  <tbody>\n",
       "    <tr>\n",
       "      <th>2022S002052</th>\n",
       "      <td>30/01/2022</td>\n",
       "      <td>3:05:00</td>\n",
       "      <td>AVDA. ARCENTALES / CALL. ESTOCOLMO</td>\n",
       "      <td>80</td>\n",
       "      <td>20</td>\n",
       "      <td>SAN BLAS-CANILLEJAS</td>\n",
       "      <td>ColisiÃ³n fronto-lateral</td>\n",
       "      <td>Despejado</td>\n",
       "      <td>Turismo</td>\n",
       "      <td>Conductor</td>\n",
       "      <td>De 25 a 29 aÃ±os</td>\n",
       "      <td>Hombre</td>\n",
       "      <td>NaN</td>\n",
       "      <td>NaN</td>\n",
       "      <td>449058,135</td>\n",
       "      <td>4475986,961</td>\n",
       "      <td>N</td>\n",
       "      <td>NaN</td>\n",
       "      <td>NaN</td>\n",
       "      <td>NaN</td>\n",
       "    </tr>\n",
       "    <tr>\n",
       "      <th>2022S002413</th>\n",
       "      <td>03/02/2022</td>\n",
       "      <td>11:35:00</td>\n",
       "      <td>CALL. CLARA DEL REY, 23</td>\n",
       "      <td>23</td>\n",
       "      <td>5</td>\n",
       "      <td>CHAMARTÃN</td>\n",
       "      <td>ColisiÃ³n fronto-lateral</td>\n",
       "      <td>Despejado</td>\n",
       "      <td>Motocicleta hasta 125cc</td>\n",
       "      <td>Conductor</td>\n",
       "      <td>De 45 a 49 aÃ±os</td>\n",
       "      <td>Hombre</td>\n",
       "      <td>7.0</td>\n",
       "      <td>Asistencia sanitaria sÃ³lo en el lugar del acc...</td>\n",
       "      <td>443001,168</td>\n",
       "      <td>4476940,609</td>\n",
       "      <td>N</td>\n",
       "      <td>NaN</td>\n",
       "      <td>NaN</td>\n",
       "      <td>NaN</td>\n",
       "    </tr>\n",
       "    <tr>\n",
       "      <th>2022S020438</th>\n",
       "      <td>01/07/2022</td>\n",
       "      <td>19:50:00</td>\n",
       "      <td>CALL. VIA LUSITANA, 56</td>\n",
       "      <td>56</td>\n",
       "      <td>11</td>\n",
       "      <td>CARABANCHEL</td>\n",
       "      <td>Atropello a persona</td>\n",
       "      <td>Despejado</td>\n",
       "      <td>Motocicleta &gt; 125cc</td>\n",
       "      <td>Conductor</td>\n",
       "      <td>De 35 a 39 aÃ±os</td>\n",
       "      <td>Hombre</td>\n",
       "      <td>14.0</td>\n",
       "      <td>Sin asistencia sanitaria</td>\n",
       "      <td>438438,646</td>\n",
       "      <td>4470264,199</td>\n",
       "      <td>N</td>\n",
       "      <td>NaN</td>\n",
       "      <td>NaN</td>\n",
       "      <td>NaN</td>\n",
       "    </tr>\n",
       "  </tbody>\n",
       "</table>\n",
       "</div>"
      ],
      "text/plain": [
       "                        fecha      hora                        localizacion  \\\n",
       "ï»¿num_expediente                                                             \n",
       "2022S002052        30/01/2022   3:05:00  AVDA. ARCENTALES / CALL. ESTOCOLMO   \n",
       "2022S002413        03/02/2022  11:35:00             CALL. CLARA DEL REY, 23   \n",
       "2022S020438        01/07/2022  19:50:00              CALL. VIA LUSITANA, 56   \n",
       "\n",
       "                  numero  cod_distrito             distrito  \\\n",
       "ï»¿num_expediente                                             \n",
       "2022S002052           80            20  SAN BLAS-CANILLEJAS   \n",
       "2022S002413           23             5           CHAMARTÃN   \n",
       "2022S020438           56            11          CARABANCHEL   \n",
       "\n",
       "                             tipo_accidente estado_meteorolÃ³gico  \\\n",
       "ï»¿num_expediente                                                   \n",
       "2022S002052        ColisiÃ³n fronto-lateral             Despejado   \n",
       "2022S002413        ColisiÃ³n fronto-lateral             Despejado   \n",
       "2022S020438             Atropello a persona             Despejado   \n",
       "\n",
       "                             tipo_vehiculo tipo_persona        rango_edad  \\\n",
       "ï»¿num_expediente                                                           \n",
       "2022S002052                        Turismo    Conductor  De 25 a 29 aÃ±os   \n",
       "2022S002413        Motocicleta hasta 125cc    Conductor  De 45 a 49 aÃ±os   \n",
       "2022S020438            Motocicleta > 125cc    Conductor  De 35 a 39 aÃ±os   \n",
       "\n",
       "                     sexo  cod_lesividad  \\\n",
       "ï»¿num_expediente                          \n",
       "2022S002052        Hombre            NaN   \n",
       "2022S002413        Hombre            7.0   \n",
       "2022S020438        Hombre           14.0   \n",
       "\n",
       "                                                           lesividad  \\\n",
       "ï»¿num_expediente                                                      \n",
       "2022S002052                                                      NaN   \n",
       "2022S002413        Asistencia sanitaria sÃ³lo en el lugar del acc...   \n",
       "2022S020438                                 Sin asistencia sanitaria   \n",
       "\n",
       "                  coordenada_x_utm coordenada_y_utm positiva_alcohol  \\\n",
       "ï»¿num_expediente                                                      \n",
       "2022S002052             449058,135      4475986,961                N   \n",
       "2022S002413             443001,168      4476940,609                N   \n",
       "2022S020438             438438,646      4470264,199                N   \n",
       "\n",
       "                   positiva_droga  Unnamed: 19  Unnamed: 20  \n",
       "ï»¿num_expediente                                            \n",
       "2022S002052                   NaN          NaN          NaN  \n",
       "2022S002413                   NaN          NaN          NaN  \n",
       "2022S020438                   NaN          NaN          NaN  "
      ]
     },
     "execution_count": 192,
     "metadata": {},
     "output_type": "execute_result"
    }
   ],
   "source": [
    "accidentes.sample(3, random_state=3)"
   ]
  },
  {
   "cell_type": "markdown",
   "metadata": {},
   "source": [
    "### Modificando columnas"
   ]
  },
  {
   "cell_type": "code",
   "execution_count": 193,
   "metadata": {},
   "outputs": [],
   "source": [
    "#renombro algunas columnas\n",
    "accidentes.rename(columns={'distrito':'accidentes_distrito', 'hora':'accidentes_hora', 'ï»¿num_expediente': 'accidentes_numero_expediente','localizacion':'accidentes_via_nombre','numero':'accidentes_via_numero', 'coordenada_x_utm':'accidentes_longitud', 'coordenada_y_utm':'accidentes_latitud'}, inplace=True)"
   ]
  },
  {
   "cell_type": "code",
   "execution_count": 194,
   "metadata": {},
   "outputs": [],
   "source": [
    "#lista de columnas inecesarias\n",
    "accidentes = accidentes.drop(['cod_distrito','fecha', 'tipo_vehiculo', 'tipo_persona', 'positiva_alcohol', 'positiva_droga', 'Unnamed: 19', 'Unnamed: 20', 'lesividad', 'cod_lesividad', 'sexo', 'rango_edad', 'estado_meteorolÃ³gico', 'tipo_accidente'], axis=1)"
   ]
  },
  {
   "cell_type": "code",
   "execution_count": 195,
   "metadata": {},
   "outputs": [],
   "source": [
    "accidentes['accidentes_localidad'] = 'Madrid'"
   ]
  },
  {
   "cell_type": "markdown",
   "metadata": {},
   "source": [
    "### Valores"
   ]
  },
  {
   "cell_type": "code",
   "execution_count": 196,
   "metadata": {},
   "outputs": [
    {
     "data": {
      "text/html": [
       "<div>\n",
       "<style scoped>\n",
       "    .dataframe tbody tr th:only-of-type {\n",
       "        vertical-align: middle;\n",
       "    }\n",
       "\n",
       "    .dataframe tbody tr th {\n",
       "        vertical-align: top;\n",
       "    }\n",
       "\n",
       "    .dataframe thead th {\n",
       "        text-align: right;\n",
       "    }\n",
       "</style>\n",
       "<table border=\"1\" class=\"dataframe\">\n",
       "  <thead>\n",
       "    <tr style=\"text-align: right;\">\n",
       "      <th></th>\n",
       "      <th>accidentes_hora</th>\n",
       "      <th>accidentes_via_nombre</th>\n",
       "      <th>accidentes_via_numero</th>\n",
       "      <th>accidentes_distrito</th>\n",
       "      <th>accidentes_longitud</th>\n",
       "      <th>accidentes_latitud</th>\n",
       "      <th>accidentes_localidad</th>\n",
       "    </tr>\n",
       "    <tr>\n",
       "      <th>ï»¿num_expediente</th>\n",
       "      <th></th>\n",
       "      <th></th>\n",
       "      <th></th>\n",
       "      <th></th>\n",
       "      <th></th>\n",
       "      <th></th>\n",
       "      <th></th>\n",
       "    </tr>\n",
       "  </thead>\n",
       "  <tbody>\n",
       "    <tr>\n",
       "      <th>2022S023892</th>\n",
       "      <td>7:40:00</td>\n",
       "      <td>CALL. DULCE CHACON / CMNO. FUENTE DE LA MORA</td>\n",
       "      <td>15</td>\n",
       "      <td>HORTALEZA</td>\n",
       "      <td>443820,082</td>\n",
       "      <td>4481706,275</td>\n",
       "      <td>Madrid</td>\n",
       "    </tr>\n",
       "    <tr>\n",
       "      <th>2022S000481</th>\n",
       "      <td>20:15:00</td>\n",
       "      <td>CALL. VELAZQUEZ / CALL. JOAQUIN COSTA</td>\n",
       "      <td>146</td>\n",
       "      <td>CHAMARTÃN</td>\n",
       "      <td>442106,722</td>\n",
       "      <td>4477104,944</td>\n",
       "      <td>Madrid</td>\n",
       "    </tr>\n",
       "    <tr>\n",
       "      <th>2022S017784</th>\n",
       "      <td>21:45:00</td>\n",
       "      <td>AVDA. DEMOCRACIA, 3</td>\n",
       "      <td>3</td>\n",
       "      <td>PUENTE DE VALLECAS</td>\n",
       "      <td>446937,294</td>\n",
       "      <td>4470421,422</td>\n",
       "      <td>Madrid</td>\n",
       "    </tr>\n",
       "  </tbody>\n",
       "</table>\n",
       "</div>"
      ],
      "text/plain": [
       "                  accidentes_hora  \\\n",
       "ï»¿num_expediente                   \n",
       "2022S023892               7:40:00   \n",
       "2022S000481              20:15:00   \n",
       "2022S017784              21:45:00   \n",
       "\n",
       "                                          accidentes_via_nombre  \\\n",
       "ï»¿num_expediente                                                 \n",
       "2022S023892        CALL. DULCE CHACON / CMNO. FUENTE DE LA MORA   \n",
       "2022S000481               CALL. VELAZQUEZ / CALL. JOAQUIN COSTA   \n",
       "2022S017784                                 AVDA. DEMOCRACIA, 3   \n",
       "\n",
       "                  accidentes_via_numero accidentes_distrito  \\\n",
       "ï»¿num_expediente                                             \n",
       "2022S023892                          15           HORTALEZA   \n",
       "2022S000481                         146          CHAMARTÃN   \n",
       "2022S017784                           3  PUENTE DE VALLECAS   \n",
       "\n",
       "                  accidentes_longitud accidentes_latitud accidentes_localidad  \n",
       "ï»¿num_expediente                                                              \n",
       "2022S023892                443820,082        4481706,275               Madrid  \n",
       "2022S000481                442106,722        4477104,944               Madrid  \n",
       "2022S017784                446937,294        4470421,422               Madrid  "
      ]
     },
     "execution_count": 196,
     "metadata": {},
     "output_type": "execute_result"
    }
   ],
   "source": [
    "accidentes.sample(3, random_state=2)"
   ]
  },
  {
   "cell_type": "code",
   "execution_count": 197,
   "metadata": {},
   "outputs": [],
   "source": [
    "#Lista con algunas abreviaturas utilizadas para referirse al tipo de via\n",
    "lista_tipo_calle = ['AVDA', 'PLAZA', 'CALL', 'AUTOV', 'CMNO', 'PASEO', 'RONDA', 'AEROP', 'PQUE', 'METRO','AVENIDA', 'PSAJE', 'BULEV', 'PUENTE', 'CALLE', 'CORREGIDOR', 'ESQUINA', 'PNTE', 'ACCES', 'AV','TUNELES', 'CAMINO', 'CALZADA', 'CRUCE', 'CONFLUENCIA', 'AEROPUERTO','TUNEL', 'PARKING','CARRETERA', 'AUTOVA', 'calle', 'TERMINAL','avda', 'AUTOVIA', 'INCORPORACIN', 'HOSPI', 'SubterrÃ', 'SUBTERRANEO', 'PARQUE', 'Carretera', 'Calle', 'CUARTEL', 'INCORPORA', 'PASO', 'antonio', 'MODESTO','ESTAD', 'PTA', 'MONASTERIO', 'HACIENDA', 'ACCESO','HOSPITAL', 'ESTACION', 'Acceso','PASARELA','AVENIDAD','Calzada', 'Pasarela', 'paseo', 'serrano','RAMAL','PINAR']\n",
    "#Si la primer palabra de la columna \"nombre_via\" esta dentro de la lista con abreviaturas de los tipos de vias, la copio a una nueva columna\n",
    "accidentes['accidentes_via_tipo'] = accidentes['accidentes_via_nombre'].apply(lambda texto: re.match(r'\\b\\w+\\b', texto).group() if re.match(r'\\b\\w+\\b', texto) and re.match(r'\\b\\w+\\b', texto).group() in lista_tipo_calle else None)"
   ]
  },
  {
   "cell_type": "code",
   "execution_count": 198,
   "metadata": {},
   "outputs": [],
   "source": [
    "#elimino la la abreviatura del tipo de via de la columna \"nombre_via\"\n",
    "accidentes['accidentes_via_nombre'] = accidentes['accidentes_via_nombre'].apply(lambda texto: re.sub(r'^[^\\w]*\\w+\\s*\\.*\\s*', '', texto) if re.match(r'\\b\\w+\\b', texto) and re.match(r'\\b\\w+\\b', texto).group() in lista_tipo_calle else texto)\n",
    "#Dejo solo la primer via, dentro de la columna \"nombre_via\"\n",
    "accidentes['accidentes_via_nombre'] = accidentes['accidentes_via_nombre'].apply(lambda texto: texto.split(',')[0].split('/')[0])\n",
    "#Remplazo simbolos extraños por un caracter vacio: \"\"\n",
    "accidentes['accidentes_via_nombre'] = accidentes['accidentes_via_nombre'].apply(lambda texto: re.sub(r'^[^\\w\\d]*\\b', '', texto))\n",
    "#Elimino simbolos extraños de la columna de \"numero\", quedandome solo con los valores numericos despues de cero y antes de letras\n",
    "accidentes['accidentes_via_numero'] = accidentes['accidentes_via_numero'].apply(lambda numero: re.match(r'\\+?0*(\\d+)', numero).group(1))\n",
    "#Reasignando nombre de distritos\n",
    "accidentes['accidentes_distrito'].loc[accidentes['accidentes_distrito'] == 'CHAMBERÃ\\x8d'] = 'CHAMBERI'\n",
    "accidentes['accidentes_distrito'].loc[accidentes['accidentes_distrito'] == 'TETUÃ\\x81N'] = 'TETUAN'\n",
    "accidentes['accidentes_distrito'].loc[accidentes['accidentes_distrito'] == 'VICÃ\\x81LVARO'] = 'VICALVARO'\n",
    "accidentes['accidentes_distrito'].loc[accidentes['accidentes_distrito'] == 'CHAMARTÃ\\x8dN'] = 'CHAMARTIN'"
   ]
  },
  {
   "cell_type": "code",
   "execution_count": 199,
   "metadata": {},
   "outputs": [],
   "source": [
    "# Define un diccionario que mapea posibles valores a tipos de vía\n",
    "mapeo_tipo_via = {\n",
    "    'Calle': ['PARKING', 'ESQUINA', 'CMNO', 'CALLE', 'Calle', 'CAMINO', 'CALL', 'calle', 'PSAJE'],\n",
    "    'Espacio verde': ['PASEO', 'PLAZA', 'PARQUE', 'HACIENDA', 'paseo', 'serrano', 'PQUE'],\n",
    "    'Avenida': ['AVDA', 'CONFLUENCIA', 'AVENIDA', 'BULEV', 'AV', 'avda', 'AVENIDAD', 'RONDA'],\n",
    "    'Carretera': ['TUNEL', 'CORREGIDOR', 'ACCES', 'CALZADA', 'METRO', 'INCORPORACIN', 'AUTOVIA', 'TUNELES', 'AUTOVA', 'RAMAL', 'PINAR', 'ACCESO', 'Acceso', 'Calzada', 'Carretera', 'INCORPORA', 'PASO', 'PASARELA', 'CRUCE', 'Pasarela', 'SubterrÃ', 'SUBTERRANEO', 'AUTOV'],\n",
    "    'Empresa': ['ESTACION'],\n",
    "    'Institucion': ['HOSPITAL', 'TERMINAL', 'HOSPI', 'CUARTEL', 'AEROP', 'AEROPUERTO', 'CARRETERA', 'MONASTERIO'],\n",
    "    'Puente': ['PNTE', 'PUENTE']\n",
    "}\n",
    "\n",
    "# Aplica el mapeo a la columna 'tipo_via' directamente desde la lambda\n",
    "accidentes['accidentes_via_tipo'] = accidentes['accidentes_via_tipo'].apply(lambda valor: next((tipo for tipo, valores in mapeo_tipo_via.items() if valor in valores), valor))"
   ]
  },
  {
   "cell_type": "code",
   "execution_count": 200,
   "metadata": {},
   "outputs": [],
   "source": [
    "#lista definidos\n",
    "lista_lugar = ['Puente', 'Institucion', 'Empresa', 'Carretera', 'Avenida', 'Espacio verde', 'Calle']\n",
    "#Si el tipo de via no esta en la lista predefinia se le asigna \"none\"\n",
    "accidentes.loc[~accidentes['accidentes_via_tipo'].isin(lista_lugar), 'accidentes_via_tipo'] = None"
   ]
  },
  {
   "cell_type": "code",
   "execution_count": 201,
   "metadata": {},
   "outputs": [],
   "source": [
    "#Conversion de columna tipo_via a mayuscula\n",
    "accidentes.accidentes_via_tipo = accidentes.accidentes_via_tipo.str.upper()"
   ]
  },
  {
   "cell_type": "code",
   "execution_count": 202,
   "metadata": {},
   "outputs": [],
   "source": [
    "accidentes['accidentes_hora'] = pd.to_datetime(accidentes['accidentes_hora'], format='%H:%M:%S').dt.hour"
   ]
  },
  {
   "cell_type": "code",
   "execution_count": 203,
   "metadata": {},
   "outputs": [
    {
     "data": {
      "text/html": [
       "<div>\n",
       "<style scoped>\n",
       "    .dataframe tbody tr th:only-of-type {\n",
       "        vertical-align: middle;\n",
       "    }\n",
       "\n",
       "    .dataframe tbody tr th {\n",
       "        vertical-align: top;\n",
       "    }\n",
       "\n",
       "    .dataframe thead th {\n",
       "        text-align: right;\n",
       "    }\n",
       "</style>\n",
       "<table border=\"1\" class=\"dataframe\">\n",
       "  <thead>\n",
       "    <tr style=\"text-align: right;\">\n",
       "      <th></th>\n",
       "      <th>accidentes_hora</th>\n",
       "      <th>accidentes_via_nombre</th>\n",
       "      <th>accidentes_via_numero</th>\n",
       "      <th>accidentes_distrito</th>\n",
       "      <th>accidentes_longitud</th>\n",
       "      <th>accidentes_latitud</th>\n",
       "      <th>accidentes_localidad</th>\n",
       "      <th>accidentes_via_tipo</th>\n",
       "    </tr>\n",
       "    <tr>\n",
       "      <th>ï»¿num_expediente</th>\n",
       "      <th></th>\n",
       "      <th></th>\n",
       "      <th></th>\n",
       "      <th></th>\n",
       "      <th></th>\n",
       "      <th></th>\n",
       "      <th></th>\n",
       "      <th></th>\n",
       "    </tr>\n",
       "  </thead>\n",
       "  <tbody>\n",
       "    <tr>\n",
       "      <th>2022S010673</th>\n",
       "      <td>16</td>\n",
       "      <td>JESUITAS</td>\n",
       "      <td>19</td>\n",
       "      <td>LATINA</td>\n",
       "      <td>437972,335</td>\n",
       "      <td>4473561,647</td>\n",
       "      <td>Madrid</td>\n",
       "      <td>ESPACIO VERDE</td>\n",
       "    </tr>\n",
       "    <tr>\n",
       "      <th>2022S040415</th>\n",
       "      <td>19</td>\n",
       "      <td>TIENDA CHINA MR. CASA</td>\n",
       "      <td>4</td>\n",
       "      <td>VICALVARO</td>\n",
       "      <td>449680,541</td>\n",
       "      <td>4472715,536</td>\n",
       "      <td>Madrid</td>\n",
       "      <td>CALLE</td>\n",
       "    </tr>\n",
       "    <tr>\n",
       "      <th>2022S015840</th>\n",
       "      <td>12</td>\n",
       "      <td>M-30</td>\n",
       "      <td>800</td>\n",
       "      <td>RETIRO</td>\n",
       "      <td>443740,972</td>\n",
       "      <td>4473619,097</td>\n",
       "      <td>Madrid</td>\n",
       "      <td>CARRETERA</td>\n",
       "    </tr>\n",
       "  </tbody>\n",
       "</table>\n",
       "</div>"
      ],
      "text/plain": [
       "                   accidentes_hora  accidentes_via_nombre  \\\n",
       "ï»¿num_expediente                                           \n",
       "2022S010673                     16               JESUITAS   \n",
       "2022S040415                     19  TIENDA CHINA MR. CASA   \n",
       "2022S015840                     12                   M-30   \n",
       "\n",
       "                  accidentes_via_numero accidentes_distrito  \\\n",
       "ï»¿num_expediente                                             \n",
       "2022S010673                          19              LATINA   \n",
       "2022S040415                           4           VICALVARO   \n",
       "2022S015840                         800              RETIRO   \n",
       "\n",
       "                  accidentes_longitud accidentes_latitud accidentes_localidad  \\\n",
       "ï»¿num_expediente                                                               \n",
       "2022S010673                437972,335        4473561,647               Madrid   \n",
       "2022S040415                449680,541        4472715,536               Madrid   \n",
       "2022S015840                443740,972        4473619,097               Madrid   \n",
       "\n",
       "                  accidentes_via_tipo  \n",
       "ï»¿num_expediente                      \n",
       "2022S010673             ESPACIO VERDE  \n",
       "2022S040415                     CALLE  \n",
       "2022S015840                 CARRETERA  "
      ]
     },
     "execution_count": 203,
     "metadata": {},
     "output_type": "execute_result"
    }
   ],
   "source": [
    "accidentes.sample(3, random_state  = 4)"
   ]
  },
  {
   "cell_type": "code",
   "execution_count": 204,
   "metadata": {},
   "outputs": [],
   "source": [
    "diccionario_distritos = {\n",
    "    'PUENTE DE VALLECAS' : 28053, \n",
    "    'RETIRO': 28032, \n",
    "    'CENTRO': 28042, \n",
    "    'SAN BLAS-CANILLEJAS': 28022,\n",
    "    'USERA': 28026, \n",
    "    'CHAMBERI': 28003, \n",
    "    'MORATALAZ': 28030, \n",
    "    'LATINA': 28024, \n",
    "    'HORTALEZA': 28033,\n",
    "    'ARGANZUELA': 28005, \n",
    "    'CARABANCHEL': 28032, \n",
    "    'TETUAN':28020, \n",
    "    'CIUDAD LINEAL': 28017,\n",
    "    'VILLAVERDE': 28021, \n",
    "    'SALAMANCA': 28001, \n",
    "    'VICALVARO':28028, \n",
    "    'FUENCARRAL-EL PARDO':28029,\n",
    "    'VILLA DE VALLECAS':28053, \n",
    "    'CHAMARTIN':28036, \n",
    "    'MONCLOA-ARAVACA': 28008, \n",
    "    'BARAJAS':28042\n",
    "}\n",
    "\n",
    "def cod_postal(valor):\n",
    "    return diccionario_distritos[valor]"
   ]
  },
  {
   "cell_type": "code",
   "execution_count": 205,
   "metadata": {},
   "outputs": [],
   "source": [
    "accidentes['accidentes_distrito_codigo_postal'] = accidentes['accidentes_distrito'].apply(cod_postal)"
   ]
  },
  {
   "cell_type": "code",
   "execution_count": 206,
   "metadata": {},
   "outputs": [],
   "source": [
    "def long_lat(valor):\n",
    "    try:\n",
    "        valor = re.sub(r'(\\d+),(\\d+)$', r'\\1.\\2', valor)\n",
    "        valor = float(valor)\n",
    "    except:\n",
    "        valor = np.nan\n",
    "    \n",
    "    return valor\n",
    "\n",
    "def utm_to_geographic(utm_value):\n",
    "    return (utm_value - 500000) / 0.9996 / 6378137 * (180 / 3.141592653589793)\n",
    "\n",
    "def utm_to_latitud(utm_value):\n",
    "    return (utm_value / 0.9996 - 6148000) / 6378137 * (180 / 3.141592653589793)\n",
    "\n",
    "# Convertir las columnas de cadena a números\n",
    "accidentes['accidentes_longitud'] = accidentes['accidentes_longitud'].apply(long_lat)\n",
    "accidentes['accidentes_latitud'] = accidentes['accidentes_latitud'].apply(long_lat)\n",
    "\n",
    "# Aplicar las funciones de conversión a las columnas en el DataFrame\n",
    "accidentes['accidentes_longitud'] = accidentes['accidentes_longitud'].apply(utm_to_geographic)\n",
    "accidentes['accidentes_latitud'] = accidentes['accidentes_latitud'].apply(utm_to_latitud)\n"
   ]
  },
  {
   "cell_type": "code",
   "execution_count": 213,
   "metadata": {},
   "outputs": [],
   "source": [
    "#Se copia latitudes y longitudes del csv de camaras\n",
    "\n",
    "distritos = camaras.camaras_distrito.unique()\n",
    "\n",
    "accidentes.loc[accidentes['accidentes_distrito'].isin(distritos), 'accidentes_longitud'] = \\\n",
    "    camaras['camaras_longitud']\n",
    "\n",
    "accidentes.loc[accidentes['accidentes_distrito'].isin(distritos), 'accidentes_latitud'] = \\\n",
    "    camaras['camaras_latitud']"
   ]
  },
  {
   "cell_type": "markdown",
   "metadata": {},
   "source": [
    "### Remplazo de Na"
   ]
  },
  {
   "cell_type": "code",
   "execution_count": 207,
   "metadata": {},
   "outputs": [],
   "source": [
    "#Remplazo de valores nulos por \"nan\" de numpy\n",
    "accidentes = accidentes.replace(\n",
    "        to_replace=common_na_strings, #Se le pasa el filtro de elementos que se tomaran como nulos/na\n",
    "        value=np.nan #Este esl valor que tomaran todos los elementos que considan con el filtro\n",
    "    ).replace(\n",
    "        to_replace=common_na_numbers, #Se le pasa el filtro de elementos que se tomaran como nulos/na\n",
    "        value=np.nan #Este esl valor que tomaran todos los elementos que considan con el filtro\n",
    "    )"
   ]
  },
  {
   "cell_type": "code",
   "execution_count": 208,
   "metadata": {},
   "outputs": [
    {
     "data": {
      "text/plain": [
       "accidentes_hora                         0\n",
       "accidentes_via_nombre                  18\n",
       "accidentes_via_numero                   0\n",
       "accidentes_distrito                     0\n",
       "accidentes_longitud                    10\n",
       "accidentes_latitud                     10\n",
       "accidentes_localidad                    0\n",
       "accidentes_via_tipo                  2714\n",
       "accidentes_distrito_codigo_postal       0\n",
       "dtype: int64"
      ]
     },
     "execution_count": 208,
     "metadata": {},
     "output_type": "execute_result"
    }
   ],
   "source": [
    "#Suma de valores nulos por columna\n",
    "accidentes.isna().sum()"
   ]
  },
  {
   "cell_type": "code",
   "execution_count": 209,
   "metadata": {},
   "outputs": [],
   "source": [
    "columnas_obligatorias = ['accidentes_hora', 'accidentes_via_nombre', 'accidentes_distrito', 'accidentes_longitud', 'accidentes_latitud']\n",
    "accidentes['accidentes_relevantes_faltantes'] = np.where(accidentes[columnas_obligatorias].isna().any(axis=1), 'REVISAR', 'COMPLETO')"
   ]
  },
  {
   "cell_type": "code",
   "execution_count": 210,
   "metadata": {},
   "outputs": [
    {
     "data": {
      "text/plain": [
       "<AxesSubplot:>"
      ]
     },
     "execution_count": 210,
     "metadata": {},
     "output_type": "execute_result"
    },
    {
     "data": {
      "image/png": "[encoded data removed]",
      "text/plain": [
       "<Figure size 2500x1000 with 2 Axes>"
      ]
     },
     "metadata": {},
     "output_type": "display_data"
    }
   ],
   "source": [
    "#Matriz de valores nulos\n",
    "msno.matrix(accidentes)"
   ]
  },
  {
   "cell_type": "markdown",
   "metadata": {},
   "source": [
    "### Guardado de CSV"
   ]
  },
  {
   "cell_type": "code",
   "execution_count": 211,
   "metadata": {},
   "outputs": [],
   "source": [
    "#Reordeno las columnas en su estado final\n",
    "accidentes = accidentes.reindex(columns=['accidentes_numero_expediente', 'accidentes_hora', 'accidentes_localidad','accidentes_distrito_codigo_postal','accidentes_distrito','accidentes_via_tipo','accidentes_via_nombre','accidentes_via_numero', 'accidentes_longitud', 'accidentes_latitud','accidentes_relevantes_faltantes'])"
   ]
  },
  {
   "cell_type": "code",
   "execution_count": 212,
   "metadata": {},
   "outputs": [],
   "source": [
    "accidentes.to_csv('../datos/csv procesados/2022_madrid_accidentalidad.csv', index=True)\n",
    "accidentes.to_excel('../datos/csv procesados/2022_madrid_accidentalidad.xlsx', index=True)"
   ]
  },
  {
   "cell_type": "code",
   "execution_count": null,
   "metadata": {},
   "outputs": [],
   "source": []
  },
  {
   "cell_type": "markdown",
   "metadata": {},
   "source": [
    "## Conclucion:"
   ]
  },
  {
   "cell_type": "markdown",
   "metadata": {},
   "source": [
    "Se observo una distrivucion de valores nulos, pero solo sobre columnas que no tienen relacion directa ni influencia mayor sobre las columnas que se quiere realizar el analisis por lo que se dejaron sin eliminar."
   ]
  }
 ],
 "metadata": {
  "kernelspec": {
   "display_name": "Python 3",
   "language": "python",
   "name": "python3"
  },
  "language_info": {
   "codemirror_mode": {
    "name": "ipython",
    "version": 3
   },
   "file_extension": ".py",
   "mimetype": "text/x-python",
   "name": "python",
   "nbconvert_exporter": "python",
   "pygments_lexer": "ipython3",
   "version": "3.11.4"
  },
  "orig_nbformat": 4
 },
 "nbformat": 4,
 "nbformat_minor": 2
}
