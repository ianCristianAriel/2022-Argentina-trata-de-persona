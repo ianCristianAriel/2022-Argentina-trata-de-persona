{
 "cells": [
  {
   "cell_type": "markdown",
   "metadata": {},
   "source": [
    "### Librerias"
   ]
  },
  {
   "cell_type": "code",
   "execution_count": 173,
   "metadata": {},
   "outputs": [],
   "source": [
    "#importo librerias\n",
    "import pandas as pd\n",
    "import re\n",
    "import numpy as np\n",
    "import missingno as msno\n",
    "import re"
   ]
  },
  {
   "cell_type": "code",
   "execution_count": 174,
   "metadata": {},
   "outputs": [],
   "source": [
    "#Listas de valores nulos\n",
    "common_na_strings = [\"missing\",\n",
    "    \"NA\",\n",
    "    \"N A\",\n",
    "    \"N/A\",\n",
    "    \"#N/A\",\n",
    "    \"NA \",\n",
    "    \" NA\",\n",
    "    \"N /A\",\n",
    "    \"N / A\",\n",
    "    \" N / A\",\n",
    "    \"N / A \",\n",
    "    \"na\",\n",
    "    \"n a\",\n",
    "    \"n/a\",\n",
    "    \"na \",\n",
    "    \" na\",\n",
    "    \"n /a\",\n",
    "    \"n / a\",\n",
    "    \" a / a\",\n",
    "    \"n / a \",\n",
    "    \"NULL\",\n",
    "    \"null\",\n",
    "    \"\",\n",
    "    \"?\",\n",
    "    \"*\",\n",
    "    \".\",]\n",
    "\n",
    "common_na_numbers = (-9, -99, -999, -9999, 9999, 66, 77, 88, -1)"
   ]
  },
  {
   "cell_type": "markdown",
   "metadata": {},
   "source": [
    "# CSV 1\n"
   ]
  },
  {
   "cell_type": "markdown",
   "metadata": {},
   "source": [
    "### Carga CSV"
   ]
  },
  {
   "cell_type": "code",
   "execution_count": 175,
   "metadata": {},
   "outputs": [],
   "source": []
  },
  {
   "cell_type": "markdown",
   "metadata": {},
   "source": [
    "### Modificacion columnas"
   ]
  },
  {
   "cell_type": "code",
   "execution_count": 177,
   "metadata": {},
   "outputs": [],
   "source": []
  },
  {
   "cell_type": "markdown",
   "metadata": {},
   "source": [
    "### Valores"
   ]
  },
  {
   "cell_type": "markdown",
   "metadata": {},
   "source": [
    "### Limpieza de valores con simbolos extraños\n"
   ]
  },
  {
   "cell_type": "code",
   "execution_count": 180,
   "metadata": {},
   "outputs": [],
   "source": []
  },
  {
   "cell_type": "markdown",
   "metadata": {},
   "source": [
    "### Remplazo Na"
   ]
  },
  {
   "cell_type": "code",
   "execution_count": 183,
   "metadata": {},
   "outputs": [],
   "source": []
  },
  {
   "cell_type": "markdown",
   "metadata": {},
   "source": [
    "### Guardado de CSV"
   ]
  },
  {
   "cell_type": "code",
   "execution_count": 188,
   "metadata": {},
   "outputs": [],
   "source": []
  },
  {
   "cell_type": "markdown",
   "metadata": {},
   "source": [
    "# CSV 2\n"
   ]
  },
  {
   "cell_type": "markdown",
   "metadata": {},
   "source": [
    "### Lectura CSV"
   ]
  },
  {
   "cell_type": "code",
   "execution_count": 192,
   "metadata": {},
   "outputs": [
    {
     "data": {
      "text/html": [
       "<div>\n",
       "<style scoped>\n",
       "    .dataframe tbody tr th:only-of-type {\n",
       "        vertical-align: middle;\n",
       "    }\n",
       "\n",
       "    .dataframe tbody tr th {\n",
       "        vertical-align: top;\n",
       "    }\n",
       "\n",
       "    .dataframe thead th {\n",
       "        text-align: right;\n",
       "    }\n",
       "</style>\n",
       "<table border=\"1\" class=\"dataframe\">\n",
       "  <thead>\n",
       "    <tr style=\"text-align: right;\">\n",
       "      <th></th>\n",
       "      <th>fecha</th>\n",
       "      <th>hora</th>\n",
       "      <th>localizacion</th>\n",
       "      <th>numero</th>\n",
       "      <th>cod_distrito</th>\n",
       "      <th>distrito</th>\n",
       "      <th>tipo_accidente</th>\n",
       "      <th>estado_meteorolÃ³gico</th>\n",
       "      <th>tipo_vehiculo</th>\n",
       "      <th>tipo_persona</th>\n",
       "      <th>rango_edad</th>\n",
       "      <th>sexo</th>\n",
       "      <th>cod_lesividad</th>\n",
       "      <th>lesividad</th>\n",
       "      <th>coordenada_x_utm</th>\n",
       "      <th>coordenada_y_utm</th>\n",
       "      <th>positiva_alcohol</th>\n",
       "      <th>positiva_droga</th>\n",
       "      <th>Unnamed: 19</th>\n",
       "      <th>Unnamed: 20</th>\n",
       "    </tr>\n",
       "    <tr>\n",
       "      <th>ï»¿num_expediente</th>\n",
       "      <th></th>\n",
       "      <th></th>\n",
       "      <th></th>\n",
       "      <th></th>\n",
       "      <th></th>\n",
       "      <th></th>\n",
       "      <th></th>\n",
       "      <th></th>\n",
       "      <th></th>\n",
       "      <th></th>\n",
       "      <th></th>\n",
       "      <th></th>\n",
       "      <th></th>\n",
       "      <th></th>\n",
       "      <th></th>\n",
       "      <th></th>\n",
       "      <th></th>\n",
       "      <th></th>\n",
       "      <th></th>\n",
       "      <th></th>\n",
       "    </tr>\n",
       "  </thead>\n",
       "  <tbody>\n",
       "    <tr>\n",
       "      <th>2022S002052</th>\n",
       "      <td>30/01/2022</td>\n",
       "      <td>3:05:00</td>\n",
       "      <td>AVDA. ARCENTALES / CALL. ESTOCOLMO</td>\n",
       "      <td>80</td>\n",
       "      <td>20</td>\n",
       "      <td>SAN BLAS-CANILLEJAS</td>\n",
       "      <td>ColisiÃ³n fronto-lateral</td>\n",
       "      <td>Despejado</td>\n",
       "      <td>Turismo</td>\n",
       "      <td>Conductor</td>\n",
       "      <td>De 25 a 29 aÃ±os</td>\n",
       "      <td>Hombre</td>\n",
       "      <td>NaN</td>\n",
       "      <td>NaN</td>\n",
       "      <td>449058,135</td>\n",
       "      <td>4475986,961</td>\n",
       "      <td>N</td>\n",
       "      <td>NaN</td>\n",
       "      <td>NaN</td>\n",
       "      <td>NaN</td>\n",
       "    </tr>\n",
       "    <tr>\n",
       "      <th>2022S002413</th>\n",
       "      <td>03/02/2022</td>\n",
       "      <td>11:35:00</td>\n",
       "      <td>CALL. CLARA DEL REY, 23</td>\n",
       "      <td>23</td>\n",
       "      <td>5</td>\n",
       "      <td>CHAMARTÃN</td>\n",
       "      <td>ColisiÃ³n fronto-lateral</td>\n",
       "      <td>Despejado</td>\n",
       "      <td>Motocicleta hasta 125cc</td>\n",
       "      <td>Conductor</td>\n",
       "      <td>De 45 a 49 aÃ±os</td>\n",
       "      <td>Hombre</td>\n",
       "      <td>7.0</td>\n",
       "      <td>Asistencia sanitaria sÃ³lo en el lugar del acc...</td>\n",
       "      <td>443001,168</td>\n",
       "      <td>4476940,609</td>\n",
       "      <td>N</td>\n",
       "      <td>NaN</td>\n",
       "      <td>NaN</td>\n",
       "      <td>NaN</td>\n",
       "    </tr>\n",
       "    <tr>\n",
       "      <th>2022S020438</th>\n",
       "      <td>01/07/2022</td>\n",
       "      <td>19:50:00</td>\n",
       "      <td>CALL. VIA LUSITANA, 56</td>\n",
       "      <td>56</td>\n",
       "      <td>11</td>\n",
       "      <td>CARABANCHEL</td>\n",
       "      <td>Atropello a persona</td>\n",
       "      <td>Despejado</td>\n",
       "      <td>Motocicleta &gt; 125cc</td>\n",
       "      <td>Conductor</td>\n",
       "      <td>De 35 a 39 aÃ±os</td>\n",
       "      <td>Hombre</td>\n",
       "      <td>14.0</td>\n",
       "      <td>Sin asistencia sanitaria</td>\n",
       "      <td>438438,646</td>\n",
       "      <td>4470264,199</td>\n",
       "      <td>N</td>\n",
       "      <td>NaN</td>\n",
       "      <td>NaN</td>\n",
       "      <td>NaN</td>\n",
       "    </tr>\n",
       "  </tbody>\n",
       "</table>\n",
       "</div>"
      ],
      "text/plain": [
       "                        fecha      hora                        localizacion  \\\n",
       "ï»¿num_expediente                                                             \n",
       "2022S002052        30/01/2022   3:05:00  AVDA. ARCENTALES / CALL. ESTOCOLMO   \n",
       "2022S002413        03/02/2022  11:35:00             CALL. CLARA DEL REY, 23   \n",
       "2022S020438        01/07/2022  19:50:00              CALL. VIA LUSITANA, 56   \n",
       "\n",
       "                  numero  cod_distrito             distrito  \\\n",
       "ï»¿num_expediente                                             \n",
       "2022S002052           80            20  SAN BLAS-CANILLEJAS   \n",
       "2022S002413           23             5           CHAMARTÃN   \n",
       "2022S020438           56            11          CARABANCHEL   \n",
       "\n",
       "                             tipo_accidente estado_meteorolÃ³gico  \\\n",
       "ï»¿num_expediente                                                   \n",
       "2022S002052        ColisiÃ³n fronto-lateral             Despejado   \n",
       "2022S002413        ColisiÃ³n fronto-lateral             Despejado   \n",
       "2022S020438             Atropello a persona             Despejado   \n",
       "\n",
       "                             tipo_vehiculo tipo_persona        rango_edad  \\\n",
       "ï»¿num_expediente                                                           \n",
       "2022S002052                        Turismo    Conductor  De 25 a 29 aÃ±os   \n",
       "2022S002413        Motocicleta hasta 125cc    Conductor  De 45 a 49 aÃ±os   \n",
       "2022S020438            Motocicleta > 125cc    Conductor  De 35 a 39 aÃ±os   \n",
       "\n",
       "                     sexo  cod_lesividad  \\\n",
       "ï»¿num_expediente                          \n",
       "2022S002052        Hombre            NaN   \n",
       "2022S002413        Hombre            7.0   \n",
       "2022S020438        Hombre           14.0   \n",
       "\n",
       "                                                           lesividad  \\\n",
       "ï»¿num_expediente                                                      \n",
       "2022S002052                                                      NaN   \n",
       "2022S002413        Asistencia sanitaria sÃ³lo en el lugar del acc...   \n",
       "2022S020438                                 Sin asistencia sanitaria   \n",
       "\n",
       "                  coordenada_x_utm coordenada_y_utm positiva_alcohol  \\\n",
       "ï»¿num_expediente                                                      \n",
       "2022S002052             449058,135      4475986,961                N   \n",
       "2022S002413             443001,168      4476940,609                N   \n",
       "2022S020438             438438,646      4470264,199                N   \n",
       "\n",
       "                   positiva_droga  Unnamed: 19  Unnamed: 20  \n",
       "ï»¿num_expediente                                            \n",
       "2022S002052                   NaN          NaN          NaN  \n",
       "2022S002413                   NaN          NaN          NaN  \n",
       "2022S020438                   NaN          NaN          NaN  "
      ]
     },
     "execution_count": 192,
     "metadata": {},
     "output_type": "execute_result"
    }
   ],
   "source": []
  },
  {
   "cell_type": "markdown",
   "metadata": {},
   "source": [
    "### Modificando columnas"
   ]
  },
  {
   "cell_type": "code",
   "execution_count": 193,
   "metadata": {},
   "outputs": [],
   "source": []
  },
  {
   "cell_type": "markdown",
   "metadata": {},
   "source": [
    "### Valores"
   ]
  },
  {
   "cell_type": "code",
   "execution_count": 196,
   "metadata": {},
   "outputs": [
    {
     "data": {
      "text/html": [
       "<div>\n",
       "<style scoped>\n",
       "    .dataframe tbody tr th:only-of-type {\n",
       "        vertical-align: middle;\n",
       "    }\n",
       "\n",
       "    .dataframe tbody tr th {\n",
       "        vertical-align: top;\n",
       "    }\n",
       "\n",
       "    .dataframe thead th {\n",
       "        text-align: right;\n",
       "    }\n",
       "</style>\n",
       "<table border=\"1\" class=\"dataframe\">\n",
       "  <thead>\n",
       "    <tr style=\"text-align: right;\">\n",
       "      <th></th>\n",
       "      <th>accidentes_hora</th>\n",
       "      <th>accidentes_via_nombre</th>\n",
       "      <th>accidentes_via_numero</th>\n",
       "      <th>accidentes_distrito</th>\n",
       "      <th>accidentes_longitud</th>\n",
       "      <th>accidentes_latitud</th>\n",
       "      <th>accidentes_localidad</th>\n",
       "    </tr>\n",
       "    <tr>\n",
       "      <th>ï»¿num_expediente</th>\n",
       "      <th></th>\n",
       "      <th></th>\n",
       "      <th></th>\n",
       "      <th></th>\n",
       "      <th></th>\n",
       "      <th></th>\n",
       "      <th></th>\n",
       "    </tr>\n",
       "  </thead>\n",
       "  <tbody>\n",
       "    <tr>\n",
       "      <th>2022S023892</th>\n",
       "      <td>7:40:00</td>\n",
       "      <td>CALL. DULCE CHACON / CMNO. FUENTE DE LA MORA</td>\n",
       "      <td>15</td>\n",
       "      <td>HORTALEZA</td>\n",
       "      <td>443820,082</td>\n",
       "      <td>4481706,275</td>\n",
       "      <td>Madrid</td>\n",
       "    </tr>\n",
       "    <tr>\n",
       "      <th>2022S000481</th>\n",
       "      <td>20:15:00</td>\n",
       "      <td>CALL. VELAZQUEZ / CALL. JOAQUIN COSTA</td>\n",
       "      <td>146</td>\n",
       "      <td>CHAMARTÃN</td>\n",
       "      <td>442106,722</td>\n",
       "      <td>4477104,944</td>\n",
       "      <td>Madrid</td>\n",
       "    </tr>\n",
       "    <tr>\n",
       "      <th>2022S017784</th>\n",
       "      <td>21:45:00</td>\n",
       "      <td>AVDA. DEMOCRACIA, 3</td>\n",
       "      <td>3</td>\n",
       "      <td>PUENTE DE VALLECAS</td>\n",
       "      <td>446937,294</td>\n",
       "      <td>4470421,422</td>\n",
       "      <td>Madrid</td>\n",
       "    </tr>\n",
       "  </tbody>\n",
       "</table>\n",
       "</div>"
      ],
      "text/plain": [
       "                  accidentes_hora  \\\n",
       "ï»¿num_expediente                   \n",
       "2022S023892               7:40:00   \n",
       "2022S000481              20:15:00   \n",
       "2022S017784              21:45:00   \n",
       "\n",
       "                                          accidentes_via_nombre  \\\n",
       "ï»¿num_expediente                                                 \n",
       "2022S023892        CALL. DULCE CHACON / CMNO. FUENTE DE LA MORA   \n",
       "2022S000481               CALL. VELAZQUEZ / CALL. JOAQUIN COSTA   \n",
       "2022S017784                                 AVDA. DEMOCRACIA, 3   \n",
       "\n",
       "                  accidentes_via_numero accidentes_distrito  \\\n",
       "ï»¿num_expediente                                             \n",
       "2022S023892                          15           HORTALEZA   \n",
       "2022S000481                         146          CHAMARTÃN   \n",
       "2022S017784                           3  PUENTE DE VALLECAS   \n",
       "\n",
       "                  accidentes_longitud accidentes_latitud accidentes_localidad  \n",
       "ï»¿num_expediente                                                              \n",
       "2022S023892                443820,082        4481706,275               Madrid  \n",
       "2022S000481                442106,722        4477104,944               Madrid  \n",
       "2022S017784                446937,294        4470421,422               Madrid  "
      ]
     },
     "execution_count": 196,
     "metadata": {},
     "output_type": "execute_result"
    }
   ],
   "source": []
  },
  {
   "cell_type": "markdown",
   "metadata": {},
   "source": [
    "### Remplazo de Na"
   ]
  },
  {
   "cell_type": "code",
   "execution_count": 207,
   "metadata": {},
   "outputs": [],
   "source": []
  },
  {
   "cell_type": "markdown",
   "metadata": {},
   "source": [
    "### Guardado de CSV"
   ]
  },
  {
   "cell_type": "code",
   "execution_count": 211,
   "metadata": {},
   "outputs": [],
   "source": []
  },
  {
   "cell_type": "markdown",
   "metadata": {},
   "source": [
    "## Conclucion:"
   ]
  },
  {
   "cell_type": "markdown",
   "metadata": {},
   "source": []
  }
 ],
 "metadata": {
  "kernelspec": {
   "display_name": "Python 3",
   "language": "python",
   "name": "python3"
  },
  "language_info": {
   "codemirror_mode": {
    "name": "ipython",
    "version": 3
   },
   "file_extension": ".py",
   "mimetype": "text/x-python",
   "name": "python",
   "nbconvert_exporter": "python",
   "pygments_lexer": "ipython3",
   "version": "3.11.4"
  },
  "orig_nbformat": 4
 },
 "nbformat": 4,
 "nbformat_minor": 2
}
